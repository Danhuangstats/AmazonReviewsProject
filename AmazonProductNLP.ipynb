{
 "cells": [
  {
   "cell_type": "code",
   "execution_count": 2,
   "metadata": {
    "colab": {
     "base_uri": "https://localhost:8080/"
    },
    "id": "q9X31YcqPghg",
    "outputId": "c4863e97-734e-42fa-e1cb-e807a807d73b"
   },
   "outputs": [
    {
     "name": "stdout",
     "output_type": "stream",
     "text": [
      "Collecting spark-nlp\n",
      "  Downloading spark_nlp-3.4.3-py2.py3-none-any.whl (144 kB)\n",
      "\u001b[?25l\r",
      "\u001b[K     |██▎                             | 10 kB 18.1 MB/s eta 0:00:01\r",
      "\u001b[K     |████▌                           | 20 kB 10.5 MB/s eta 0:00:01\r",
      "\u001b[K     |██████▉                         | 30 kB 8.3 MB/s eta 0:00:01\r",
      "\u001b[K     |█████████                       | 40 kB 7.4 MB/s eta 0:00:01\r",
      "\u001b[K     |███████████▎                    | 51 kB 4.8 MB/s eta 0:00:01\r",
      "\u001b[K     |█████████████▋                  | 61 kB 5.6 MB/s eta 0:00:01\r",
      "\u001b[K     |███████████████▉                | 71 kB 5.5 MB/s eta 0:00:01\r",
      "\u001b[K     |██████████████████▏             | 81 kB 4.4 MB/s eta 0:00:01\r",
      "\u001b[K     |████████████████████▍           | 92 kB 4.9 MB/s eta 0:00:01\r",
      "\u001b[K     |██████████████████████▋         | 102 kB 5.3 MB/s eta 0:00:01\r",
      "\u001b[K     |█████████████████████████       | 112 kB 5.3 MB/s eta 0:00:01\r",
      "\u001b[K     |███████████████████████████▏    | 122 kB 5.3 MB/s eta 0:00:01\r",
      "\u001b[K     |█████████████████████████████▌  | 133 kB 5.3 MB/s eta 0:00:01\r",
      "\u001b[K     |███████████████████████████████▊| 143 kB 5.3 MB/s eta 0:00:01\r",
      "\u001b[K     |████████████████████████████████| 144 kB 5.3 MB/s \n",
      "\u001b[?25hInstalling collected packages: spark-nlp\n",
      "Successfully installed spark-nlp-3.4.3\n"
     ]
    }
   ],
   "source": [
    "! pip install spark-nlp"
   ]
  },
  {
   "cell_type": "code",
   "execution_count": 3,
   "metadata": {
    "colab": {
     "base_uri": "https://localhost:8080/"
    },
    "id": "FAz0nLuDPxny",
    "outputId": "c90b9c74-0c0f-4714-9b40-65a51dde45f8"
   },
   "outputs": [
    {
     "name": "stdout",
     "output_type": "stream",
     "text": [
      "Collecting pyspark\n",
      "  Downloading pyspark-3.2.1.tar.gz (281.4 MB)\n",
      "\u001b[K     |████████████████████████████████| 281.4 MB 28 kB/s \n",
      "\u001b[?25hCollecting py4j==0.10.9.3\n",
      "  Downloading py4j-0.10.9.3-py2.py3-none-any.whl (198 kB)\n",
      "\u001b[K     |████████████████████████████████| 198 kB 57.0 MB/s \n",
      "\u001b[?25hBuilding wheels for collected packages: pyspark\n",
      "  Building wheel for pyspark (setup.py) ... \u001b[?25l\u001b[?25hdone\n",
      "  Created wheel for pyspark: filename=pyspark-3.2.1-py2.py3-none-any.whl size=281853642 sha256=bde06f4ad96cf1479340acc4e0674837f42e0d0fb67d9ed06d9f3b50d80c6c85\n",
      "  Stored in directory: /root/.cache/pip/wheels/9f/f5/07/7cd8017084dce4e93e84e92efd1e1d5334db05f2e83bcef74f\n",
      "Successfully built pyspark\n",
      "Installing collected packages: py4j, pyspark\n",
      "Successfully installed py4j-0.10.9.3 pyspark-3.2.1\n"
     ]
    }
   ],
   "source": [
    "! pip install pyspark"
   ]
  },
  {
   "cell_type": "code",
   "execution_count": 4,
   "metadata": {
    "id": "SoqFu_faQyVJ"
   },
   "outputs": [],
   "source": [
    "import sparknlp\n",
    "import pandas as pd\n",
    "import numpy as np"
   ]
  },
  {
   "cell_type": "markdown",
   "metadata": {
    "id": "ricSn2b3Zsfy"
   },
   "source": [
    "Load data"
   ]
  },
  {
   "cell_type": "code",
   "execution_count": 5,
   "metadata": {
    "colab": {
     "base_uri": "https://localhost:8080/"
    },
    "id": "F-132pYJTV5q",
    "outputId": "39a42ffe-063d-40fb-a8bc-e4ee88812e1a"
   },
   "outputs": [
    {
     "name": "stdout",
     "output_type": "stream",
     "text": [
      "Mounted at /content/gdrive\n"
     ]
    }
   ],
   "source": [
    "from google.colab import drive\n",
    "drive.mount('/content/gdrive')"
   ]
  },
  {
   "cell_type": "code",
   "execution_count": 6,
   "metadata": {
    "colab": {
     "base_uri": "https://localhost:8080/"
    },
    "id": "EMei1nuLWohC",
    "outputId": "72c4be90-67f8-42d3-a56d-136913b44d99"
   },
   "outputs": [
    {
     "name": "stdout",
     "output_type": "stream",
     "text": [
      "/content/gdrive/My Drive/Upwork/April2022/Kishore\n"
     ]
    }
   ],
   "source": [
    "%cd /content/gdrive/My Drive/Upwork/April2022/Kishore"
   ]
  },
  {
   "cell_type": "code",
   "execution_count": 344,
   "metadata": {
    "id": "yLiHWFaMWpnF"
   },
   "outputs": [],
   "source": [
    "data=pd.read_csv('reviews.tsv',on_bad_lines='skip',sep='\\t',nrows=5000)"
   ]
  },
  {
   "cell_type": "code",
   "execution_count": 345,
   "metadata": {
    "colab": {
     "base_uri": "https://localhost:8080/",
     "height": 548
    },
    "id": "fofND9sjYr06",
    "outputId": "72c922eb-9fc7-403a-97af-9f25a0181624"
   },
   "outputs": [
    {
     "data": {
      "text/html": [
       "\n",
       "  <div id=\"df-8827ce04-1c7c-4e92-913a-ce4d0c712f0e\">\n",
       "    <div class=\"colab-df-container\">\n",
       "      <div>\n",
       "<style scoped>\n",
       "    .dataframe tbody tr th:only-of-type {\n",
       "        vertical-align: middle;\n",
       "    }\n",
       "\n",
       "    .dataframe tbody tr th {\n",
       "        vertical-align: top;\n",
       "    }\n",
       "\n",
       "    .dataframe thead th {\n",
       "        text-align: right;\n",
       "    }\n",
       "</style>\n",
       "<table border=\"1\" class=\"dataframe\">\n",
       "  <thead>\n",
       "    <tr style=\"text-align: right;\">\n",
       "      <th></th>\n",
       "      <th>marketplace</th>\n",
       "      <th>customer_id</th>\n",
       "      <th>review_id</th>\n",
       "      <th>product_id</th>\n",
       "      <th>product_parent</th>\n",
       "      <th>product_title</th>\n",
       "      <th>product_category</th>\n",
       "      <th>star_rating</th>\n",
       "      <th>helpful_votes</th>\n",
       "      <th>total_votes</th>\n",
       "      <th>vine</th>\n",
       "      <th>verified_purchase</th>\n",
       "      <th>review_headline</th>\n",
       "      <th>review_body</th>\n",
       "      <th>review_date</th>\n",
       "    </tr>\n",
       "  </thead>\n",
       "  <tbody>\n",
       "    <tr>\n",
       "      <th>0</th>\n",
       "      <td>US</td>\n",
       "      <td>9970739</td>\n",
       "      <td>R8EWA1OFT84NX</td>\n",
       "      <td>B00GSP5D94</td>\n",
       "      <td>329991347</td>\n",
       "      <td>Summer Infant SwaddleMe Adjustable Infant Wrap...</td>\n",
       "      <td>Baby</td>\n",
       "      <td>5</td>\n",
       "      <td>0</td>\n",
       "      <td>0</td>\n",
       "      <td>N</td>\n",
       "      <td>Y</td>\n",
       "      <td>Great swaddled blankets</td>\n",
       "      <td>Loved these swaddle blankets and so did my dau...</td>\n",
       "      <td>2015-08-31</td>\n",
       "    </tr>\n",
       "    <tr>\n",
       "      <th>1</th>\n",
       "      <td>US</td>\n",
       "      <td>23538442</td>\n",
       "      <td>R2JWY4YRQD4FOP</td>\n",
       "      <td>B00YYDDZGU</td>\n",
       "      <td>646108902</td>\n",
       "      <td>Pacifier Clip Girl (3 Pack) Ziggy Baby 2-Sided...</td>\n",
       "      <td>Baby</td>\n",
       "      <td>5</td>\n",
       "      <td>0</td>\n",
       "      <td>0</td>\n",
       "      <td>N</td>\n",
       "      <td>N</td>\n",
       "      <td>Too cute and really nice</td>\n",
       "      <td>These are adorable pacifier clips. SavvyBaby h...</td>\n",
       "      <td>2015-08-31</td>\n",
       "    </tr>\n",
       "    <tr>\n",
       "      <th>2</th>\n",
       "      <td>US</td>\n",
       "      <td>8273344</td>\n",
       "      <td>RL5ESX231LZ0B</td>\n",
       "      <td>B00BUBNZC8</td>\n",
       "      <td>642922361</td>\n",
       "      <td>Udder Covers - Breast Feeding Nursing Cover</td>\n",
       "      <td>Baby</td>\n",
       "      <td>5</td>\n",
       "      <td>0</td>\n",
       "      <td>0</td>\n",
       "      <td>N</td>\n",
       "      <td>Y</td>\n",
       "      <td>Five Stars</td>\n",
       "      <td>Great gift</td>\n",
       "      <td>2015-08-31</td>\n",
       "    </tr>\n",
       "    <tr>\n",
       "      <th>3</th>\n",
       "      <td>US</td>\n",
       "      <td>24557753</td>\n",
       "      <td>RRMS9ZWJ2KD08</td>\n",
       "      <td>B00AWLZFTS</td>\n",
       "      <td>494272733</td>\n",
       "      <td>Gerber Graduates Fun Pack Utensils</td>\n",
       "      <td>Baby</td>\n",
       "      <td>5</td>\n",
       "      <td>0</td>\n",
       "      <td>0</td>\n",
       "      <td>N</td>\n",
       "      <td>Y</td>\n",
       "      <td>Cute; wash up nicely in dishwasher.</td>\n",
       "      <td>These forks are great for my 10 month old daug...</td>\n",
       "      <td>2015-08-31</td>\n",
       "    </tr>\n",
       "    <tr>\n",
       "      <th>4</th>\n",
       "      <td>US</td>\n",
       "      <td>46263340</td>\n",
       "      <td>R14I3ZG5E6S7YM</td>\n",
       "      <td>B00KM60D3Q</td>\n",
       "      <td>305813185</td>\n",
       "      <td>Summer Infant Ultra Sight Pan/Scan/Zoom Video ...</td>\n",
       "      <td>Baby</td>\n",
       "      <td>5</td>\n",
       "      <td>0</td>\n",
       "      <td>0</td>\n",
       "      <td>N</td>\n",
       "      <td>Y</td>\n",
       "      <td>Love it!</td>\n",
       "      <td>I wanted something for piece of mind with my l...</td>\n",
       "      <td>2015-08-31</td>\n",
       "    </tr>\n",
       "  </tbody>\n",
       "</table>\n",
       "</div>\n",
       "      <button class=\"colab-df-convert\" onclick=\"convertToInteractive('df-8827ce04-1c7c-4e92-913a-ce4d0c712f0e')\"\n",
       "              title=\"Convert this dataframe to an interactive table.\"\n",
       "              style=\"display:none;\">\n",
       "        \n",
       "  <svg xmlns=\"http://www.w3.org/2000/svg\" height=\"24px\"viewBox=\"0 0 24 24\"\n",
       "       width=\"24px\">\n",
       "    <path d=\"M0 0h24v24H0V0z\" fill=\"none\"/>\n",
       "    <path d=\"M18.56 5.44l.94 2.06.94-2.06 2.06-.94-2.06-.94-.94-2.06-.94 2.06-2.06.94zm-11 1L8.5 8.5l.94-2.06 2.06-.94-2.06-.94L8.5 2.5l-.94 2.06-2.06.94zm10 10l.94 2.06.94-2.06 2.06-.94-2.06-.94-.94-2.06-.94 2.06-2.06.94z\"/><path d=\"M17.41 7.96l-1.37-1.37c-.4-.4-.92-.59-1.43-.59-.52 0-1.04.2-1.43.59L10.3 9.45l-7.72 7.72c-.78.78-.78 2.05 0 2.83L4 21.41c.39.39.9.59 1.41.59.51 0 1.02-.2 1.41-.59l7.78-7.78 2.81-2.81c.8-.78.8-2.07 0-2.86zM5.41 20L4 18.59l7.72-7.72 1.47 1.35L5.41 20z\"/>\n",
       "  </svg>\n",
       "      </button>\n",
       "      \n",
       "  <style>\n",
       "    .colab-df-container {\n",
       "      display:flex;\n",
       "      flex-wrap:wrap;\n",
       "      gap: 12px;\n",
       "    }\n",
       "\n",
       "    .colab-df-convert {\n",
       "      background-color: #E8F0FE;\n",
       "      border: none;\n",
       "      border-radius: 50%;\n",
       "      cursor: pointer;\n",
       "      display: none;\n",
       "      fill: #1967D2;\n",
       "      height: 32px;\n",
       "      padding: 0 0 0 0;\n",
       "      width: 32px;\n",
       "    }\n",
       "\n",
       "    .colab-df-convert:hover {\n",
       "      background-color: #E2EBFA;\n",
       "      box-shadow: 0px 1px 2px rgba(60, 64, 67, 0.3), 0px 1px 3px 1px rgba(60, 64, 67, 0.15);\n",
       "      fill: #174EA6;\n",
       "    }\n",
       "\n",
       "    [theme=dark] .colab-df-convert {\n",
       "      background-color: #3B4455;\n",
       "      fill: #D2E3FC;\n",
       "    }\n",
       "\n",
       "    [theme=dark] .colab-df-convert:hover {\n",
       "      background-color: #434B5C;\n",
       "      box-shadow: 0px 1px 3px 1px rgba(0, 0, 0, 0.15);\n",
       "      filter: drop-shadow(0px 1px 2px rgba(0, 0, 0, 0.3));\n",
       "      fill: #FFFFFF;\n",
       "    }\n",
       "  </style>\n",
       "\n",
       "      <script>\n",
       "        const buttonEl =\n",
       "          document.querySelector('#df-8827ce04-1c7c-4e92-913a-ce4d0c712f0e button.colab-df-convert');\n",
       "        buttonEl.style.display =\n",
       "          google.colab.kernel.accessAllowed ? 'block' : 'none';\n",
       "\n",
       "        async function convertToInteractive(key) {\n",
       "          const element = document.querySelector('#df-8827ce04-1c7c-4e92-913a-ce4d0c712f0e');\n",
       "          const dataTable =\n",
       "            await google.colab.kernel.invokeFunction('convertToInteractive',\n",
       "                                                     [key], {});\n",
       "          if (!dataTable) return;\n",
       "\n",
       "          const docLinkHtml = 'Like what you see? Visit the ' +\n",
       "            '<a target=\"_blank\" href=https://colab.research.google.com/notebooks/data_table.ipynb>data table notebook</a>'\n",
       "            + ' to learn more about interactive tables.';\n",
       "          element.innerHTML = '';\n",
       "          dataTable['output_type'] = 'display_data';\n",
       "          await google.colab.output.renderOutput(dataTable, element);\n",
       "          const docLink = document.createElement('div');\n",
       "          docLink.innerHTML = docLinkHtml;\n",
       "          element.appendChild(docLink);\n",
       "        }\n",
       "      </script>\n",
       "    </div>\n",
       "  </div>\n",
       "  "
      ],
      "text/plain": [
       "  marketplace  customer_id       review_id  product_id  product_parent  \\\n",
       "0          US      9970739   R8EWA1OFT84NX  B00GSP5D94       329991347   \n",
       "1          US     23538442  R2JWY4YRQD4FOP  B00YYDDZGU       646108902   \n",
       "2          US      8273344   RL5ESX231LZ0B  B00BUBNZC8       642922361   \n",
       "3          US     24557753   RRMS9ZWJ2KD08  B00AWLZFTS       494272733   \n",
       "4          US     46263340  R14I3ZG5E6S7YM  B00KM60D3Q       305813185   \n",
       "\n",
       "                                       product_title product_category  \\\n",
       "0  Summer Infant SwaddleMe Adjustable Infant Wrap...             Baby   \n",
       "1  Pacifier Clip Girl (3 Pack) Ziggy Baby 2-Sided...             Baby   \n",
       "2        Udder Covers - Breast Feeding Nursing Cover             Baby   \n",
       "3                 Gerber Graduates Fun Pack Utensils             Baby   \n",
       "4  Summer Infant Ultra Sight Pan/Scan/Zoom Video ...             Baby   \n",
       "\n",
       "   star_rating  helpful_votes  total_votes vine verified_purchase  \\\n",
       "0            5              0            0    N                 Y   \n",
       "1            5              0            0    N                 N   \n",
       "2            5              0            0    N                 Y   \n",
       "3            5              0            0    N                 Y   \n",
       "4            5              0            0    N                 Y   \n",
       "\n",
       "                       review_headline  \\\n",
       "0              Great swaddled blankets   \n",
       "1             Too cute and really nice   \n",
       "2                           Five Stars   \n",
       "3  Cute; wash up nicely in dishwasher.   \n",
       "4                             Love it!   \n",
       "\n",
       "                                         review_body review_date  \n",
       "0  Loved these swaddle blankets and so did my dau...  2015-08-31  \n",
       "1  These are adorable pacifier clips. SavvyBaby h...  2015-08-31  \n",
       "2                                         Great gift  2015-08-31  \n",
       "3  These forks are great for my 10 month old daug...  2015-08-31  \n",
       "4  I wanted something for piece of mind with my l...  2015-08-31  "
      ]
     },
     "execution_count": 345,
     "metadata": {},
     "output_type": "execute_result"
    }
   ],
   "source": [
    "data.head(5)"
   ]
  },
  {
   "cell_type": "code",
   "execution_count": 346,
   "metadata": {
    "colab": {
     "base_uri": "https://localhost:8080/",
     "height": 300
    },
    "id": "VKq__iUfZP_m",
    "outputId": "19297dcd-5d84-432b-cb01-4dfd076ab91c"
   },
   "outputs": [
    {
     "data": {
      "text/html": [
       "\n",
       "  <div id=\"df-40658fcb-8c75-4c18-b670-732f2c00b1ac\">\n",
       "    <div class=\"colab-df-container\">\n",
       "      <div>\n",
       "<style scoped>\n",
       "    .dataframe tbody tr th:only-of-type {\n",
       "        vertical-align: middle;\n",
       "    }\n",
       "\n",
       "    .dataframe tbody tr th {\n",
       "        vertical-align: top;\n",
       "    }\n",
       "\n",
       "    .dataframe thead th {\n",
       "        text-align: right;\n",
       "    }\n",
       "</style>\n",
       "<table border=\"1\" class=\"dataframe\">\n",
       "  <thead>\n",
       "    <tr style=\"text-align: right;\">\n",
       "      <th></th>\n",
       "      <th>customer_id</th>\n",
       "      <th>product_parent</th>\n",
       "      <th>star_rating</th>\n",
       "      <th>helpful_votes</th>\n",
       "      <th>total_votes</th>\n",
       "    </tr>\n",
       "  </thead>\n",
       "  <tbody>\n",
       "    <tr>\n",
       "      <th>count</th>\n",
       "      <td>5.000000e+03</td>\n",
       "      <td>5.000000e+03</td>\n",
       "      <td>5000.000000</td>\n",
       "      <td>5000.000000</td>\n",
       "      <td>5000.000000</td>\n",
       "    </tr>\n",
       "    <tr>\n",
       "      <th>mean</th>\n",
       "      <td>2.459909e+07</td>\n",
       "      <td>4.894207e+08</td>\n",
       "      <td>4.210200</td>\n",
       "      <td>0.641200</td>\n",
       "      <td>0.834200</td>\n",
       "    </tr>\n",
       "    <tr>\n",
       "      <th>std</th>\n",
       "      <td>1.572903e+07</td>\n",
       "      <td>2.849076e+08</td>\n",
       "      <td>1.282788</td>\n",
       "      <td>7.071921</td>\n",
       "      <td>7.367331</td>\n",
       "    </tr>\n",
       "    <tr>\n",
       "      <th>min</th>\n",
       "      <td>1.013400e+04</td>\n",
       "      <td>2.341800e+04</td>\n",
       "      <td>1.000000</td>\n",
       "      <td>0.000000</td>\n",
       "      <td>0.000000</td>\n",
       "    </tr>\n",
       "    <tr>\n",
       "      <th>25%</th>\n",
       "      <td>1.193007e+07</td>\n",
       "      <td>2.438054e+08</td>\n",
       "      <td>4.000000</td>\n",
       "      <td>0.000000</td>\n",
       "      <td>0.000000</td>\n",
       "    </tr>\n",
       "    <tr>\n",
       "      <th>50%</th>\n",
       "      <td>2.280712e+07</td>\n",
       "      <td>4.852615e+08</td>\n",
       "      <td>5.000000</td>\n",
       "      <td>0.000000</td>\n",
       "      <td>0.000000</td>\n",
       "    </tr>\n",
       "    <tr>\n",
       "      <th>75%</th>\n",
       "      <td>3.867224e+07</td>\n",
       "      <td>7.304523e+08</td>\n",
       "      <td>5.000000</td>\n",
       "      <td>0.000000</td>\n",
       "      <td>0.000000</td>\n",
       "    </tr>\n",
       "    <tr>\n",
       "      <th>max</th>\n",
       "      <td>5.307619e+07</td>\n",
       "      <td>9.992091e+08</td>\n",
       "      <td>5.000000</td>\n",
       "      <td>378.000000</td>\n",
       "      <td>383.000000</td>\n",
       "    </tr>\n",
       "  </tbody>\n",
       "</table>\n",
       "</div>\n",
       "      <button class=\"colab-df-convert\" onclick=\"convertToInteractive('df-40658fcb-8c75-4c18-b670-732f2c00b1ac')\"\n",
       "              title=\"Convert this dataframe to an interactive table.\"\n",
       "              style=\"display:none;\">\n",
       "        \n",
       "  <svg xmlns=\"http://www.w3.org/2000/svg\" height=\"24px\"viewBox=\"0 0 24 24\"\n",
       "       width=\"24px\">\n",
       "    <path d=\"M0 0h24v24H0V0z\" fill=\"none\"/>\n",
       "    <path d=\"M18.56 5.44l.94 2.06.94-2.06 2.06-.94-2.06-.94-.94-2.06-.94 2.06-2.06.94zm-11 1L8.5 8.5l.94-2.06 2.06-.94-2.06-.94L8.5 2.5l-.94 2.06-2.06.94zm10 10l.94 2.06.94-2.06 2.06-.94-2.06-.94-.94-2.06-.94 2.06-2.06.94z\"/><path d=\"M17.41 7.96l-1.37-1.37c-.4-.4-.92-.59-1.43-.59-.52 0-1.04.2-1.43.59L10.3 9.45l-7.72 7.72c-.78.78-.78 2.05 0 2.83L4 21.41c.39.39.9.59 1.41.59.51 0 1.02-.2 1.41-.59l7.78-7.78 2.81-2.81c.8-.78.8-2.07 0-2.86zM5.41 20L4 18.59l7.72-7.72 1.47 1.35L5.41 20z\"/>\n",
       "  </svg>\n",
       "      </button>\n",
       "      \n",
       "  <style>\n",
       "    .colab-df-container {\n",
       "      display:flex;\n",
       "      flex-wrap:wrap;\n",
       "      gap: 12px;\n",
       "    }\n",
       "\n",
       "    .colab-df-convert {\n",
       "      background-color: #E8F0FE;\n",
       "      border: none;\n",
       "      border-radius: 50%;\n",
       "      cursor: pointer;\n",
       "      display: none;\n",
       "      fill: #1967D2;\n",
       "      height: 32px;\n",
       "      padding: 0 0 0 0;\n",
       "      width: 32px;\n",
       "    }\n",
       "\n",
       "    .colab-df-convert:hover {\n",
       "      background-color: #E2EBFA;\n",
       "      box-shadow: 0px 1px 2px rgba(60, 64, 67, 0.3), 0px 1px 3px 1px rgba(60, 64, 67, 0.15);\n",
       "      fill: #174EA6;\n",
       "    }\n",
       "\n",
       "    [theme=dark] .colab-df-convert {\n",
       "      background-color: #3B4455;\n",
       "      fill: #D2E3FC;\n",
       "    }\n",
       "\n",
       "    [theme=dark] .colab-df-convert:hover {\n",
       "      background-color: #434B5C;\n",
       "      box-shadow: 0px 1px 3px 1px rgba(0, 0, 0, 0.15);\n",
       "      filter: drop-shadow(0px 1px 2px rgba(0, 0, 0, 0.3));\n",
       "      fill: #FFFFFF;\n",
       "    }\n",
       "  </style>\n",
       "\n",
       "      <script>\n",
       "        const buttonEl =\n",
       "          document.querySelector('#df-40658fcb-8c75-4c18-b670-732f2c00b1ac button.colab-df-convert');\n",
       "        buttonEl.style.display =\n",
       "          google.colab.kernel.accessAllowed ? 'block' : 'none';\n",
       "\n",
       "        async function convertToInteractive(key) {\n",
       "          const element = document.querySelector('#df-40658fcb-8c75-4c18-b670-732f2c00b1ac');\n",
       "          const dataTable =\n",
       "            await google.colab.kernel.invokeFunction('convertToInteractive',\n",
       "                                                     [key], {});\n",
       "          if (!dataTable) return;\n",
       "\n",
       "          const docLinkHtml = 'Like what you see? Visit the ' +\n",
       "            '<a target=\"_blank\" href=https://colab.research.google.com/notebooks/data_table.ipynb>data table notebook</a>'\n",
       "            + ' to learn more about interactive tables.';\n",
       "          element.innerHTML = '';\n",
       "          dataTable['output_type'] = 'display_data';\n",
       "          await google.colab.output.renderOutput(dataTable, element);\n",
       "          const docLink = document.createElement('div');\n",
       "          docLink.innerHTML = docLinkHtml;\n",
       "          element.appendChild(docLink);\n",
       "        }\n",
       "      </script>\n",
       "    </div>\n",
       "  </div>\n",
       "  "
      ],
      "text/plain": [
       "        customer_id  product_parent  star_rating  helpful_votes  total_votes\n",
       "count  5.000000e+03    5.000000e+03  5000.000000    5000.000000  5000.000000\n",
       "mean   2.459909e+07    4.894207e+08     4.210200       0.641200     0.834200\n",
       "std    1.572903e+07    2.849076e+08     1.282788       7.071921     7.367331\n",
       "min    1.013400e+04    2.341800e+04     1.000000       0.000000     0.000000\n",
       "25%    1.193007e+07    2.438054e+08     4.000000       0.000000     0.000000\n",
       "50%    2.280712e+07    4.852615e+08     5.000000       0.000000     0.000000\n",
       "75%    3.867224e+07    7.304523e+08     5.000000       0.000000     0.000000\n",
       "max    5.307619e+07    9.992091e+08     5.000000     378.000000   383.000000"
      ]
     },
     "execution_count": 346,
     "metadata": {},
     "output_type": "execute_result"
    }
   ],
   "source": [
    "data.describe()"
   ]
  },
  {
   "cell_type": "code",
   "execution_count": 347,
   "metadata": {
    "colab": {
     "base_uri": "https://localhost:8080/"
    },
    "id": "7HdoAKxcR5j3",
    "outputId": "e80f91ba-9254-497f-adfc-acca88ab4217"
   },
   "outputs": [
    {
     "data": {
      "text/plain": [
       "Index(['marketplace', 'customer_id', 'review_id', 'product_id',\n",
       "       'product_parent', 'product_title', 'product_category', 'star_rating',\n",
       "       'helpful_votes', 'total_votes', 'vine', 'verified_purchase',\n",
       "       'review_headline', 'review_body', 'review_date'],\n",
       "      dtype='object')"
      ]
     },
     "execution_count": 347,
     "metadata": {},
     "output_type": "execute_result"
    }
   ],
   "source": [
    "data.columns"
   ]
  },
  {
   "cell_type": "markdown",
   "metadata": {
    "id": "4N0glQ63Z4Mq"
   },
   "source": [
    "Data preprocessing: text data"
   ]
  },
  {
   "cell_type": "code",
   "execution_count": 10,
   "metadata": {
    "id": "Iis3qdAXZ_vh"
   },
   "outputs": [],
   "source": [
    "text=pd.DataFrame(data['review_headline']+[' ']+data['review_body'])\n",
    "\n",
    "data['reviews']=text"
   ]
  },
  {
   "cell_type": "code",
   "execution_count": 11,
   "metadata": {
    "colab": {
     "base_uri": "https://localhost:8080/",
     "height": 634
    },
    "id": "znXwU2DPdS8S",
    "outputId": "bd866d97-f910-41b7-e662-dd49f8f22a42"
   },
   "outputs": [
    {
     "data": {
      "text/html": [
       "\n",
       "  <div id=\"df-2a5471dc-43ff-4568-88dc-61552cb77352\">\n",
       "    <div class=\"colab-df-container\">\n",
       "      <div>\n",
       "<style scoped>\n",
       "    .dataframe tbody tr th:only-of-type {\n",
       "        vertical-align: middle;\n",
       "    }\n",
       "\n",
       "    .dataframe tbody tr th {\n",
       "        vertical-align: top;\n",
       "    }\n",
       "\n",
       "    .dataframe thead th {\n",
       "        text-align: right;\n",
       "    }\n",
       "</style>\n",
       "<table border=\"1\" class=\"dataframe\">\n",
       "  <thead>\n",
       "    <tr style=\"text-align: right;\">\n",
       "      <th></th>\n",
       "      <th>marketplace</th>\n",
       "      <th>customer_id</th>\n",
       "      <th>review_id</th>\n",
       "      <th>product_id</th>\n",
       "      <th>product_parent</th>\n",
       "      <th>product_title</th>\n",
       "      <th>product_category</th>\n",
       "      <th>star_rating</th>\n",
       "      <th>helpful_votes</th>\n",
       "      <th>total_votes</th>\n",
       "      <th>vine</th>\n",
       "      <th>verified_purchase</th>\n",
       "      <th>review_headline</th>\n",
       "      <th>review_body</th>\n",
       "      <th>review_date</th>\n",
       "      <th>reviews</th>\n",
       "    </tr>\n",
       "  </thead>\n",
       "  <tbody>\n",
       "    <tr>\n",
       "      <th>0</th>\n",
       "      <td>US</td>\n",
       "      <td>9970739</td>\n",
       "      <td>R8EWA1OFT84NX</td>\n",
       "      <td>B00GSP5D94</td>\n",
       "      <td>329991347</td>\n",
       "      <td>Summer Infant SwaddleMe Adjustable Infant Wrap...</td>\n",
       "      <td>Baby</td>\n",
       "      <td>5</td>\n",
       "      <td>0</td>\n",
       "      <td>0</td>\n",
       "      <td>N</td>\n",
       "      <td>Y</td>\n",
       "      <td>Great swaddled blankets</td>\n",
       "      <td>Loved these swaddle blankets and so did my dau...</td>\n",
       "      <td>2015-08-31</td>\n",
       "      <td>Great swaddled blankets Loved these swaddle bl...</td>\n",
       "    </tr>\n",
       "    <tr>\n",
       "      <th>1</th>\n",
       "      <td>US</td>\n",
       "      <td>23538442</td>\n",
       "      <td>R2JWY4YRQD4FOP</td>\n",
       "      <td>B00YYDDZGU</td>\n",
       "      <td>646108902</td>\n",
       "      <td>Pacifier Clip Girl (3 Pack) Ziggy Baby 2-Sided...</td>\n",
       "      <td>Baby</td>\n",
       "      <td>5</td>\n",
       "      <td>0</td>\n",
       "      <td>0</td>\n",
       "      <td>N</td>\n",
       "      <td>N</td>\n",
       "      <td>Too cute and really nice</td>\n",
       "      <td>These are adorable pacifier clips. SavvyBaby h...</td>\n",
       "      <td>2015-08-31</td>\n",
       "      <td>Too cute and really nice These are adorable pa...</td>\n",
       "    </tr>\n",
       "    <tr>\n",
       "      <th>2</th>\n",
       "      <td>US</td>\n",
       "      <td>8273344</td>\n",
       "      <td>RL5ESX231LZ0B</td>\n",
       "      <td>B00BUBNZC8</td>\n",
       "      <td>642922361</td>\n",
       "      <td>Udder Covers - Breast Feeding Nursing Cover</td>\n",
       "      <td>Baby</td>\n",
       "      <td>5</td>\n",
       "      <td>0</td>\n",
       "      <td>0</td>\n",
       "      <td>N</td>\n",
       "      <td>Y</td>\n",
       "      <td>Five Stars</td>\n",
       "      <td>Great gift</td>\n",
       "      <td>2015-08-31</td>\n",
       "      <td>Five Stars Great gift</td>\n",
       "    </tr>\n",
       "    <tr>\n",
       "      <th>3</th>\n",
       "      <td>US</td>\n",
       "      <td>24557753</td>\n",
       "      <td>RRMS9ZWJ2KD08</td>\n",
       "      <td>B00AWLZFTS</td>\n",
       "      <td>494272733</td>\n",
       "      <td>Gerber Graduates Fun Pack Utensils</td>\n",
       "      <td>Baby</td>\n",
       "      <td>5</td>\n",
       "      <td>0</td>\n",
       "      <td>0</td>\n",
       "      <td>N</td>\n",
       "      <td>Y</td>\n",
       "      <td>Cute; wash up nicely in dishwasher.</td>\n",
       "      <td>These forks are great for my 10 month old daug...</td>\n",
       "      <td>2015-08-31</td>\n",
       "      <td>Cute; wash up nicely in dishwasher. These fork...</td>\n",
       "    </tr>\n",
       "    <tr>\n",
       "      <th>4</th>\n",
       "      <td>US</td>\n",
       "      <td>46263340</td>\n",
       "      <td>R14I3ZG5E6S7YM</td>\n",
       "      <td>B00KM60D3Q</td>\n",
       "      <td>305813185</td>\n",
       "      <td>Summer Infant Ultra Sight Pan/Scan/Zoom Video ...</td>\n",
       "      <td>Baby</td>\n",
       "      <td>5</td>\n",
       "      <td>0</td>\n",
       "      <td>0</td>\n",
       "      <td>N</td>\n",
       "      <td>Y</td>\n",
       "      <td>Love it!</td>\n",
       "      <td>I wanted something for piece of mind with my l...</td>\n",
       "      <td>2015-08-31</td>\n",
       "      <td>Love it! I wanted something for piece of mind ...</td>\n",
       "    </tr>\n",
       "  </tbody>\n",
       "</table>\n",
       "</div>\n",
       "      <button class=\"colab-df-convert\" onclick=\"convertToInteractive('df-2a5471dc-43ff-4568-88dc-61552cb77352')\"\n",
       "              title=\"Convert this dataframe to an interactive table.\"\n",
       "              style=\"display:none;\">\n",
       "        \n",
       "  <svg xmlns=\"http://www.w3.org/2000/svg\" height=\"24px\"viewBox=\"0 0 24 24\"\n",
       "       width=\"24px\">\n",
       "    <path d=\"M0 0h24v24H0V0z\" fill=\"none\"/>\n",
       "    <path d=\"M18.56 5.44l.94 2.06.94-2.06 2.06-.94-2.06-.94-.94-2.06-.94 2.06-2.06.94zm-11 1L8.5 8.5l.94-2.06 2.06-.94-2.06-.94L8.5 2.5l-.94 2.06-2.06.94zm10 10l.94 2.06.94-2.06 2.06-.94-2.06-.94-.94-2.06-.94 2.06-2.06.94z\"/><path d=\"M17.41 7.96l-1.37-1.37c-.4-.4-.92-.59-1.43-.59-.52 0-1.04.2-1.43.59L10.3 9.45l-7.72 7.72c-.78.78-.78 2.05 0 2.83L4 21.41c.39.39.9.59 1.41.59.51 0 1.02-.2 1.41-.59l7.78-7.78 2.81-2.81c.8-.78.8-2.07 0-2.86zM5.41 20L4 18.59l7.72-7.72 1.47 1.35L5.41 20z\"/>\n",
       "  </svg>\n",
       "      </button>\n",
       "      \n",
       "  <style>\n",
       "    .colab-df-container {\n",
       "      display:flex;\n",
       "      flex-wrap:wrap;\n",
       "      gap: 12px;\n",
       "    }\n",
       "\n",
       "    .colab-df-convert {\n",
       "      background-color: #E8F0FE;\n",
       "      border: none;\n",
       "      border-radius: 50%;\n",
       "      cursor: pointer;\n",
       "      display: none;\n",
       "      fill: #1967D2;\n",
       "      height: 32px;\n",
       "      padding: 0 0 0 0;\n",
       "      width: 32px;\n",
       "    }\n",
       "\n",
       "    .colab-df-convert:hover {\n",
       "      background-color: #E2EBFA;\n",
       "      box-shadow: 0px 1px 2px rgba(60, 64, 67, 0.3), 0px 1px 3px 1px rgba(60, 64, 67, 0.15);\n",
       "      fill: #174EA6;\n",
       "    }\n",
       "\n",
       "    [theme=dark] .colab-df-convert {\n",
       "      background-color: #3B4455;\n",
       "      fill: #D2E3FC;\n",
       "    }\n",
       "\n",
       "    [theme=dark] .colab-df-convert:hover {\n",
       "      background-color: #434B5C;\n",
       "      box-shadow: 0px 1px 3px 1px rgba(0, 0, 0, 0.15);\n",
       "      filter: drop-shadow(0px 1px 2px rgba(0, 0, 0, 0.3));\n",
       "      fill: #FFFFFF;\n",
       "    }\n",
       "  </style>\n",
       "\n",
       "      <script>\n",
       "        const buttonEl =\n",
       "          document.querySelector('#df-2a5471dc-43ff-4568-88dc-61552cb77352 button.colab-df-convert');\n",
       "        buttonEl.style.display =\n",
       "          google.colab.kernel.accessAllowed ? 'block' : 'none';\n",
       "\n",
       "        async function convertToInteractive(key) {\n",
       "          const element = document.querySelector('#df-2a5471dc-43ff-4568-88dc-61552cb77352');\n",
       "          const dataTable =\n",
       "            await google.colab.kernel.invokeFunction('convertToInteractive',\n",
       "                                                     [key], {});\n",
       "          if (!dataTable) return;\n",
       "\n",
       "          const docLinkHtml = 'Like what you see? Visit the ' +\n",
       "            '<a target=\"_blank\" href=https://colab.research.google.com/notebooks/data_table.ipynb>data table notebook</a>'\n",
       "            + ' to learn more about interactive tables.';\n",
       "          element.innerHTML = '';\n",
       "          dataTable['output_type'] = 'display_data';\n",
       "          await google.colab.output.renderOutput(dataTable, element);\n",
       "          const docLink = document.createElement('div');\n",
       "          docLink.innerHTML = docLinkHtml;\n",
       "          element.appendChild(docLink);\n",
       "        }\n",
       "      </script>\n",
       "    </div>\n",
       "  </div>\n",
       "  "
      ],
      "text/plain": [
       "  marketplace  customer_id       review_id  product_id  product_parent  \\\n",
       "0          US      9970739   R8EWA1OFT84NX  B00GSP5D94       329991347   \n",
       "1          US     23538442  R2JWY4YRQD4FOP  B00YYDDZGU       646108902   \n",
       "2          US      8273344   RL5ESX231LZ0B  B00BUBNZC8       642922361   \n",
       "3          US     24557753   RRMS9ZWJ2KD08  B00AWLZFTS       494272733   \n",
       "4          US     46263340  R14I3ZG5E6S7YM  B00KM60D3Q       305813185   \n",
       "\n",
       "                                       product_title product_category  \\\n",
       "0  Summer Infant SwaddleMe Adjustable Infant Wrap...             Baby   \n",
       "1  Pacifier Clip Girl (3 Pack) Ziggy Baby 2-Sided...             Baby   \n",
       "2        Udder Covers - Breast Feeding Nursing Cover             Baby   \n",
       "3                 Gerber Graduates Fun Pack Utensils             Baby   \n",
       "4  Summer Infant Ultra Sight Pan/Scan/Zoom Video ...             Baby   \n",
       "\n",
       "   star_rating  helpful_votes  total_votes vine verified_purchase  \\\n",
       "0            5              0            0    N                 Y   \n",
       "1            5              0            0    N                 N   \n",
       "2            5              0            0    N                 Y   \n",
       "3            5              0            0    N                 Y   \n",
       "4            5              0            0    N                 Y   \n",
       "\n",
       "                       review_headline  \\\n",
       "0              Great swaddled blankets   \n",
       "1             Too cute and really nice   \n",
       "2                           Five Stars   \n",
       "3  Cute; wash up nicely in dishwasher.   \n",
       "4                             Love it!   \n",
       "\n",
       "                                         review_body review_date  \\\n",
       "0  Loved these swaddle blankets and so did my dau...  2015-08-31   \n",
       "1  These are adorable pacifier clips. SavvyBaby h...  2015-08-31   \n",
       "2                                         Great gift  2015-08-31   \n",
       "3  These forks are great for my 10 month old daug...  2015-08-31   \n",
       "4  I wanted something for piece of mind with my l...  2015-08-31   \n",
       "\n",
       "                                             reviews  \n",
       "0  Great swaddled blankets Loved these swaddle bl...  \n",
       "1  Too cute and really nice These are adorable pa...  \n",
       "2                              Five Stars Great gift  \n",
       "3  Cute; wash up nicely in dishwasher. These fork...  \n",
       "4  Love it! I wanted something for piece of mind ...  "
      ]
     },
     "execution_count": 11,
     "metadata": {},
     "output_type": "execute_result"
    }
   ],
   "source": [
    "data.head(5)"
   ]
  },
  {
   "cell_type": "code",
   "execution_count": 12,
   "metadata": {
    "colab": {
     "base_uri": "https://localhost:8080/"
    },
    "id": "tkkedcQlkL3h",
    "outputId": "421e4b9a-63c3-4a2d-e90d-bc6479eadd9e"
   },
   "outputs": [
    {
     "data": {
      "text/plain": [
       "Index(['marketplace', 'customer_id', 'review_id', 'product_id',\n",
       "       'product_parent', 'product_title', 'product_category', 'star_rating',\n",
       "       'helpful_votes', 'total_votes', 'vine', 'verified_purchase',\n",
       "       'review_headline', 'review_body', 'review_date', 'reviews'],\n",
       "      dtype='object')"
      ]
     },
     "execution_count": 12,
     "metadata": {},
     "output_type": "execute_result"
    }
   ],
   "source": [
    "data.columns"
   ]
  },
  {
   "cell_type": "code",
   "execution_count": 13,
   "metadata": {
    "id": "XAaNmeYfkbqL"
   },
   "outputs": [],
   "source": [
    "data=data.drop(['marketplace','review_id','product_parent','product_category',\n",
    "                'customer_id','product_id','product_title','verified_purchase',\n",
    "                'review_headline', 'review_body','review_date'],axis=1)"
   ]
  },
  {
   "cell_type": "code",
   "execution_count": 199,
   "metadata": {
    "colab": {
     "base_uri": "https://localhost:8080/",
     "height": 206
    },
    "id": "Z3STGeRplPBw",
    "outputId": "edf192e6-4bb7-4670-dfd5-33262f30753b"
   },
   "outputs": [
    {
     "data": {
      "text/html": [
       "\n",
       "  <div id=\"df-f49c7384-4433-4a93-b67e-9604177ecf8d\">\n",
       "    <div class=\"colab-df-container\">\n",
       "      <div>\n",
       "<style scoped>\n",
       "    .dataframe tbody tr th:only-of-type {\n",
       "        vertical-align: middle;\n",
       "    }\n",
       "\n",
       "    .dataframe tbody tr th {\n",
       "        vertical-align: top;\n",
       "    }\n",
       "\n",
       "    .dataframe thead th {\n",
       "        text-align: right;\n",
       "    }\n",
       "</style>\n",
       "<table border=\"1\" class=\"dataframe\">\n",
       "  <thead>\n",
       "    <tr style=\"text-align: right;\">\n",
       "      <th></th>\n",
       "      <th>star_rating</th>\n",
       "      <th>helpful_votes</th>\n",
       "      <th>total_votes</th>\n",
       "      <th>vine</th>\n",
       "      <th>reviews</th>\n",
       "    </tr>\n",
       "  </thead>\n",
       "  <tbody>\n",
       "    <tr>\n",
       "      <th>0</th>\n",
       "      <td>5</td>\n",
       "      <td>0</td>\n",
       "      <td>0</td>\n",
       "      <td>N</td>\n",
       "      <td>Great swaddled blankets Loved these swaddle bl...</td>\n",
       "    </tr>\n",
       "    <tr>\n",
       "      <th>1</th>\n",
       "      <td>5</td>\n",
       "      <td>0</td>\n",
       "      <td>0</td>\n",
       "      <td>N</td>\n",
       "      <td>Too cute and really nice These are adorable pa...</td>\n",
       "    </tr>\n",
       "    <tr>\n",
       "      <th>2</th>\n",
       "      <td>5</td>\n",
       "      <td>0</td>\n",
       "      <td>0</td>\n",
       "      <td>N</td>\n",
       "      <td>Five Stars Great gift</td>\n",
       "    </tr>\n",
       "    <tr>\n",
       "      <th>3</th>\n",
       "      <td>5</td>\n",
       "      <td>0</td>\n",
       "      <td>0</td>\n",
       "      <td>N</td>\n",
       "      <td>Cute; wash up nicely in dishwasher. These fork...</td>\n",
       "    </tr>\n",
       "    <tr>\n",
       "      <th>4</th>\n",
       "      <td>5</td>\n",
       "      <td>0</td>\n",
       "      <td>0</td>\n",
       "      <td>N</td>\n",
       "      <td>Love it! I wanted something for piece of mind ...</td>\n",
       "    </tr>\n",
       "  </tbody>\n",
       "</table>\n",
       "</div>\n",
       "      <button class=\"colab-df-convert\" onclick=\"convertToInteractive('df-f49c7384-4433-4a93-b67e-9604177ecf8d')\"\n",
       "              title=\"Convert this dataframe to an interactive table.\"\n",
       "              style=\"display:none;\">\n",
       "        \n",
       "  <svg xmlns=\"http://www.w3.org/2000/svg\" height=\"24px\"viewBox=\"0 0 24 24\"\n",
       "       width=\"24px\">\n",
       "    <path d=\"M0 0h24v24H0V0z\" fill=\"none\"/>\n",
       "    <path d=\"M18.56 5.44l.94 2.06.94-2.06 2.06-.94-2.06-.94-.94-2.06-.94 2.06-2.06.94zm-11 1L8.5 8.5l.94-2.06 2.06-.94-2.06-.94L8.5 2.5l-.94 2.06-2.06.94zm10 10l.94 2.06.94-2.06 2.06-.94-2.06-.94-.94-2.06-.94 2.06-2.06.94z\"/><path d=\"M17.41 7.96l-1.37-1.37c-.4-.4-.92-.59-1.43-.59-.52 0-1.04.2-1.43.59L10.3 9.45l-7.72 7.72c-.78.78-.78 2.05 0 2.83L4 21.41c.39.39.9.59 1.41.59.51 0 1.02-.2 1.41-.59l7.78-7.78 2.81-2.81c.8-.78.8-2.07 0-2.86zM5.41 20L4 18.59l7.72-7.72 1.47 1.35L5.41 20z\"/>\n",
       "  </svg>\n",
       "      </button>\n",
       "      \n",
       "  <style>\n",
       "    .colab-df-container {\n",
       "      display:flex;\n",
       "      flex-wrap:wrap;\n",
       "      gap: 12px;\n",
       "    }\n",
       "\n",
       "    .colab-df-convert {\n",
       "      background-color: #E8F0FE;\n",
       "      border: none;\n",
       "      border-radius: 50%;\n",
       "      cursor: pointer;\n",
       "      display: none;\n",
       "      fill: #1967D2;\n",
       "      height: 32px;\n",
       "      padding: 0 0 0 0;\n",
       "      width: 32px;\n",
       "    }\n",
       "\n",
       "    .colab-df-convert:hover {\n",
       "      background-color: #E2EBFA;\n",
       "      box-shadow: 0px 1px 2px rgba(60, 64, 67, 0.3), 0px 1px 3px 1px rgba(60, 64, 67, 0.15);\n",
       "      fill: #174EA6;\n",
       "    }\n",
       "\n",
       "    [theme=dark] .colab-df-convert {\n",
       "      background-color: #3B4455;\n",
       "      fill: #D2E3FC;\n",
       "    }\n",
       "\n",
       "    [theme=dark] .colab-df-convert:hover {\n",
       "      background-color: #434B5C;\n",
       "      box-shadow: 0px 1px 3px 1px rgba(0, 0, 0, 0.15);\n",
       "      filter: drop-shadow(0px 1px 2px rgba(0, 0, 0, 0.3));\n",
       "      fill: #FFFFFF;\n",
       "    }\n",
       "  </style>\n",
       "\n",
       "      <script>\n",
       "        const buttonEl =\n",
       "          document.querySelector('#df-f49c7384-4433-4a93-b67e-9604177ecf8d button.colab-df-convert');\n",
       "        buttonEl.style.display =\n",
       "          google.colab.kernel.accessAllowed ? 'block' : 'none';\n",
       "\n",
       "        async function convertToInteractive(key) {\n",
       "          const element = document.querySelector('#df-f49c7384-4433-4a93-b67e-9604177ecf8d');\n",
       "          const dataTable =\n",
       "            await google.colab.kernel.invokeFunction('convertToInteractive',\n",
       "                                                     [key], {});\n",
       "          if (!dataTable) return;\n",
       "\n",
       "          const docLinkHtml = 'Like what you see? Visit the ' +\n",
       "            '<a target=\"_blank\" href=https://colab.research.google.com/notebooks/data_table.ipynb>data table notebook</a>'\n",
       "            + ' to learn more about interactive tables.';\n",
       "          element.innerHTML = '';\n",
       "          dataTable['output_type'] = 'display_data';\n",
       "          await google.colab.output.renderOutput(dataTable, element);\n",
       "          const docLink = document.createElement('div');\n",
       "          docLink.innerHTML = docLinkHtml;\n",
       "          element.appendChild(docLink);\n",
       "        }\n",
       "      </script>\n",
       "    </div>\n",
       "  </div>\n",
       "  "
      ],
      "text/plain": [
       "   star_rating  helpful_votes  total_votes vine  \\\n",
       "0            5              0            0    N   \n",
       "1            5              0            0    N   \n",
       "2            5              0            0    N   \n",
       "3            5              0            0    N   \n",
       "4            5              0            0    N   \n",
       "\n",
       "                                             reviews  \n",
       "0  Great swaddled blankets Loved these swaddle bl...  \n",
       "1  Too cute and really nice These are adorable pa...  \n",
       "2                              Five Stars Great gift  \n",
       "3  Cute; wash up nicely in dishwasher. These fork...  \n",
       "4  Love it! I wanted something for piece of mind ...  "
      ]
     },
     "execution_count": 199,
     "metadata": {},
     "output_type": "execute_result"
    }
   ],
   "source": [
    "df=data.copy()\n",
    "\n",
    "df.head(5)"
   ]
  },
  {
   "cell_type": "code",
   "execution_count": 200,
   "metadata": {
    "id": "v5juOD5tdnWl"
   },
   "outputs": [],
   "source": [
    "from pyspark import SparkContext\n",
    "from pyspark.sql import SparkSession, SQLContext\n"
   ]
  },
  {
   "cell_type": "code",
   "execution_count": 201,
   "metadata": {
    "id": "lsIpEGZ4dUVy"
   },
   "outputs": [],
   "source": [
    "\n",
    "spark = sparknlp.start(spark32 = True)"
   ]
  },
  {
   "cell_type": "code",
   "execution_count": 202,
   "metadata": {
    "id": "TT-ysS7SehLV"
   },
   "outputs": [],
   "source": [
    "from pyspark.sql import SparkSession, SQLContext"
   ]
  },
  {
   "cell_type": "code",
   "execution_count": 203,
   "metadata": {
    "id": "Pk5zi5B6fM8Y"
   },
   "outputs": [],
   "source": [
    "sc=SparkContext.getOrCreate()"
   ]
  },
  {
   "cell_type": "code",
   "execution_count": 204,
   "metadata": {
    "id": "t_3xGAABgzC8"
   },
   "outputs": [],
   "source": [
    "\n",
    "ss=SparkSession(sc)\n",
    "from pyspark.sql.types import StringType, StructField, StructType,IntegerType,ArrayType\n",
    "\n",
    "schema= StructType(\n",
    "      [StructField('star_rating',IntegerType(),True),\n",
    "      StructField('helpful_votes',IntegerType(),True),\n",
    "      StructField('total_votes',IntegerType(),True),\n",
    "      StructField('vine',StringType(),True),\n",
    "      StructField('reviews',StringType(),True)])\n",
    "\n",
    "spark_df= ss.createDataFrame(df, schema= schema)\n",
    "\n"
   ]
  },
  {
   "cell_type": "code",
   "execution_count": 205,
   "metadata": {
    "colab": {
     "base_uri": "https://localhost:8080/"
    },
    "id": "kelKDIl4iYSn",
    "outputId": "6cd38202-cf43-4c78-f47c-fe64f5234637"
   },
   "outputs": [
    {
     "name": "stdout",
     "output_type": "stream",
     "text": [
      "+-----------+-------------+-----------+----+--------------------+\n",
      "|star_rating|helpful_votes|total_votes|vine|             reviews|\n",
      "+-----------+-------------+-----------+----+--------------------+\n",
      "|          5|            0|          0|   N|Great swaddled bl...|\n",
      "|          5|            0|          0|   N|Too cute and real...|\n",
      "|          5|            0|          0|   N|Five Stars Great ...|\n",
      "|          5|            0|          0|   N|Cute; wash up nic...|\n",
      "|          5|            0|          0|   N|Love it! I wanted...|\n",
      "+-----------+-------------+-----------+----+--------------------+\n",
      "only showing top 5 rows\n",
      "\n"
     ]
    }
   ],
   "source": [
    "spark_df.show(5)"
   ]
  },
  {
   "cell_type": "code",
   "execution_count": 206,
   "metadata": {
    "id": "BpfV-_rHndFV"
   },
   "outputs": [],
   "source": [
    "### preprocessing text data\n",
    "from pyspark.ml.feature import SQLTransformer, RegexTokenizer, StopWordsRemover, CountVectorizer, Imputer, IDF\n",
    "from pyspark.ml.feature import StringIndexer, VectorAssembler\n",
    "\n",
    "\n",
    "stopwords=StopWordsRemover.loadDefaultStopWords('english')"
   ]
  },
  {
   "cell_type": "code",
   "execution_count": 207,
   "metadata": {
    "colab": {
     "base_uri": "https://localhost:8080/"
    },
    "id": "shKFrBGEnoLX",
    "outputId": "1d0b6f94-c7aa-4bbc-eba9-37fac2beacea"
   },
   "outputs": [
    {
     "name": "stdout",
     "output_type": "stream",
     "text": [
      "+-----------+-------------+-----------+----+--------------------+\n",
      "|star_rating|helpful_votes|total_votes|vine|             reviews|\n",
      "+-----------+-------------+-----------+----+--------------------+\n",
      "|          5|            0|          0|   N|great swaddled bl...|\n",
      "|          5|            0|          0|   N|too cute and real...|\n",
      "|          5|            0|          0|   N|five stars great ...|\n",
      "|          5|            0|          0|   N|cute; wash up nic...|\n",
      "|          5|            0|          0|   N|love it! i wanted...|\n",
      "+-----------+-------------+-----------+----+--------------------+\n",
      "only showing top 5 rows\n",
      "\n"
     ]
    }
   ],
   "source": [
    "### 1. all words to lowercase\n",
    "\n",
    "from pyspark.sql.functions import lower, col\n",
    "\n",
    "import pyspark.sql.functions as f\n",
    "\n",
    "spark_df=spark_df.select('*', f.lower(\"reviews\"))\n",
    "spark_df=spark_df.drop('reviews')\n",
    "spark_df=spark_df.withColumnRenamed('lower(reviews)','reviews') \n",
    "spark_df.show(5)"
   ]
  },
  {
   "cell_type": "code",
   "execution_count": 208,
   "metadata": {
    "id": "m6AMJNHp0X9z"
   },
   "outputs": [],
   "source": [
    "\n",
    "### 2. remove punctuations \n",
    "\n",
    "from pyspark.sql.functions import regexp_replace, trim, lit, udf"
   ]
  },
  {
   "cell_type": "code",
   "execution_count": 209,
   "metadata": {
    "id": "ZICCUgIm1aV1"
   },
   "outputs": [],
   "source": [
    "def removePunctuation(column):\n",
    "    return trim(regexp_replace(column,'\\\\p{Punct}','')).alias('sentence')"
   ]
  },
  {
   "cell_type": "code",
   "execution_count": 210,
   "metadata": {
    "id": "85VIPf6U2diG"
   },
   "outputs": [],
   "source": [
    "a=spark_df.select(removePunctuation(col('reviews')))"
   ]
  },
  {
   "cell_type": "code",
   "execution_count": 211,
   "metadata": {
    "colab": {
     "base_uri": "https://localhost:8080/"
    },
    "id": "57RTSf2-3K-o",
    "outputId": "93d9e78f-4d9e-4801-a8f2-3a1a3001340c"
   },
   "outputs": [
    {
     "name": "stdout",
     "output_type": "stream",
     "text": [
      "+--------------------+\n",
      "|            sentence|\n",
      "+--------------------+\n",
      "|great swaddled bl...|\n",
      "|too cute and real...|\n",
      "|five stars great ...|\n",
      "|cute wash up nice...|\n",
      "|love it i wanted ...|\n",
      "+--------------------+\n",
      "only showing top 5 rows\n",
      "\n"
     ]
    }
   ],
   "source": [
    "a.show(5)"
   ]
  },
  {
   "cell_type": "code",
   "execution_count": 212,
   "metadata": {
    "id": "cp419Gap3RyM"
   },
   "outputs": [],
   "source": [
    "df1 = spark_df.withColumn(\"id_col\", f.monotonically_increasing_id())\n",
    "df2 = a.withColumn(\"id_col\", f.monotonically_increasing_id())"
   ]
  },
  {
   "cell_type": "code",
   "execution_count": 213,
   "metadata": {
    "colab": {
     "base_uri": "https://localhost:8080/"
    },
    "id": "MLrUe4jP3pQP",
    "outputId": "414f07bc-60ee-4290-b0cf-c4247b90626c"
   },
   "outputs": [
    {
     "name": "stdout",
     "output_type": "stream",
     "text": [
      "+-----------+-------------+-----------+----+--------------------+\n",
      "|star_rating|helpful_votes|total_votes|vine|            sentence|\n",
      "+-----------+-------------+-----------+----+--------------------+\n",
      "|          3|            1|          1|   N|a bit messy i ord...|\n",
      "|          5|            0|          0|   N|it has great room...|\n",
      "|          5|            0|          0|   N|five stars these ...|\n",
      "|          3|            1|          4|   N|and the mulberry ...|\n",
      "|          5|            0|          0|   N|great seat for a ...|\n",
      "+-----------+-------------+-----------+----+--------------------+\n",
      "only showing top 5 rows\n",
      "\n"
     ]
    }
   ],
   "source": [
    "df3 = df1.join(df2, on=\"id_col\", how=\"inner\")\n",
    "# drop the id_col column after this\n",
    "spark_df = df3.drop(\"id_col\",'reviews')\n",
    "\n",
    "spark_df.show(5)"
   ]
  },
  {
   "cell_type": "code",
   "execution_count": 214,
   "metadata": {
    "id": "vaXy0J0X9BJw"
   },
   "outputs": [],
   "source": [
    "### 3. tokenization \n",
    "\n",
    "from pyspark.ml.feature import SQLTransformer, RegexTokenizer, StopWordsRemover, CountVectorizer, Imputer, IDF\n",
    "from pyspark.ml.feature import StringIndexer, VectorAssembler\n",
    "\n",
    "\n",
    "stopwords=StopWordsRemover.loadDefaultStopWords('english')\n",
    "\n",
    "\n"
   ]
  },
  {
   "cell_type": "code",
   "execution_count": 215,
   "metadata": {
    "id": "mbMA41t--0Fc"
   },
   "outputs": [],
   "source": [
    "from pyspark.ml.feature import HashingTF, IDF, Tokenizer"
   ]
  },
  {
   "cell_type": "code",
   "execution_count": 216,
   "metadata": {
    "id": "7k8e7J8OAOE-"
   },
   "outputs": [],
   "source": [
    "tokenizer = Tokenizer(inputCol=\"sentence\", outputCol=\"words\")\n",
    "spark_df = tokenizer.transform(spark_df)"
   ]
  },
  {
   "cell_type": "code",
   "execution_count": 217,
   "metadata": {
    "id": "_7YrEvZVAcNi"
   },
   "outputs": [],
   "source": [
    "spark_df=spark_df.drop('sentence')"
   ]
  },
  {
   "cell_type": "code",
   "execution_count": 218,
   "metadata": {
    "id": "BWfDrOGvAeOF"
   },
   "outputs": [],
   "source": [
    "### 4. remove stopwords\n",
    "\n",
    "remover=StopWordsRemover(inputCol='words',outputCol='word_removed')"
   ]
  },
  {
   "cell_type": "code",
   "execution_count": 219,
   "metadata": {
    "id": "G0BJdrtuBvC6"
   },
   "outputs": [],
   "source": [
    "spark_df=remover.transform(spark_df)"
   ]
  },
  {
   "cell_type": "code",
   "execution_count": 220,
   "metadata": {
    "colab": {
     "base_uri": "https://localhost:8080/"
    },
    "id": "h3I5NZz0B7ja",
    "outputId": "e1c8b3fb-6f44-447e-b3e4-4c2714a646a8"
   },
   "outputs": [
    {
     "name": "stdout",
     "output_type": "stream",
     "text": [
      "+-----------+-------------+-----------+----+--------------------+\n",
      "|star_rating|helpful_votes|total_votes|vine|        word_removed|\n",
      "+-----------+-------------+-----------+----+--------------------+\n",
      "|          3|            1|          1|   N|[bit, messy, orde...|\n",
      "|          5|            0|          0|   N|[great, room, bot...|\n",
      "|          5|            0|          0|   N|[five, stars, cut...|\n",
      "|          3|            1|          4|   N|[mulberry, color,...|\n",
      "|          5|            0|          0|   N|[great, seat, gre...|\n",
      "+-----------+-------------+-----------+----+--------------------+\n",
      "only showing top 5 rows\n",
      "\n"
     ]
    }
   ],
   "source": [
    "spark_df=spark_df.drop('words')\n",
    "\n",
    "spark_df.show(5)"
   ]
  },
  {
   "cell_type": "code",
   "execution_count": 282,
   "metadata": {
    "colab": {
     "base_uri": "https://localhost:8080/"
    },
    "id": "JJbAbUhoPr37",
    "outputId": "e409eead-8a45-4c38-d02a-ecbe17d4900d"
   },
   "outputs": [
    {
     "name": "stdout",
     "output_type": "stream",
     "text": [
      "+-----------+-------------+-----------+----+--------------------+--------------------+\n",
      "|star_rating|helpful_votes|total_votes|vine|        word_removed|         rawfeatures|\n",
      "+-----------+-------------+-----------+----+--------------------+--------------------+\n",
      "|          3|            1|          1|   N|[bit, messy, orde...|(10376,[0,49,59,6...|\n",
      "|          5|            0|          0|   N|[great, room, bot...|(10376,[1,4,8,11,...|\n",
      "|          5|            0|          0|   N|[five, stars, cut...|(10376,[2,5,23,23...|\n",
      "|          3|            1|          4|   N|[mulberry, color,...|(10376,[12,24,34,...|\n",
      "+-----------+-------------+-----------+----+--------------------+--------------------+\n",
      "only showing top 4 rows\n",
      "\n"
     ]
    }
   ],
   "source": [
    "### 5. Count Vectorizer: aim to help convert a collection of text documents to vectors of token counts\n",
    "\n",
    "from pyspark.ml import Pipeline\n",
    "\n",
    "cv= CountVectorizer(inputCol= 'word_removed', outputCol= 'rawfeatures')\n",
    "\n",
    "model=cv.fit(spark_df)\n",
    "vectorized_df=model.transform(spark_df)\n",
    "\n",
    "vectorized_df.show(4)"
   ]
  },
  {
   "cell_type": "code",
   "execution_count": 256,
   "metadata": {
    "id": "_M-6wvsmPutZ"
   },
   "outputs": [],
   "source": [
    "# idf = IDF(inputCol=\"raw_features\", outputCol=\"features\")\n",
    "\n",
    "# pipeline = Pipeline(stages=[cv, idf])"
   ]
  },
  {
   "cell_type": "code",
   "execution_count": 257,
   "metadata": {
    "id": "o4nSoP5S8ntH"
   },
   "outputs": [],
   "source": [
    "### 6. Compute Term frequency-inverse document frequency text\n",
    "\n",
    "# idfModel = pipeline.fit(spark_df)\n"
   ]
  },
  {
   "cell_type": "code",
   "execution_count": 260,
   "metadata": {
    "id": "ofRMJYDk-N7f"
   },
   "outputs": [],
   "source": [
    "# total_counts = idfModel.transform(spark_df)\\\n",
    "#                     .select('raw_features').rdd\\\n",
    "#                     .map(lambda row: row['raw_features'].toArray())\\\n",
    "#                     .reduce(lambda x,y: [x[i]+y[i] for i in range(len(y))])\n",
    "\n"
   ]
  },
  {
   "cell_type": "code",
   "execution_count": 283,
   "metadata": {
    "id": "TVGJTPN6Q-rp"
   },
   "outputs": [],
   "source": [
    "##### 6. Compute Term frequency-inverse document frequency text\n",
    "\n",
    "from pyspark.ml.feature import HashingTF\n",
    "\n",
    "\n",
    "hashingTF = HashingTF(inputCol=\"word_removed\", outputCol=\"rawFeatures\", numFeatures=10000)\n",
    "featurizedData = hashingTF.transform(vectorized_df)\n",
    "\n",
    "\n",
    "\n",
    "idf= IDF(inputCol= 'rawFeatures', outputCol= 'word_idf')"
   ]
  },
  {
   "cell_type": "code",
   "execution_count": 284,
   "metadata": {
    "id": "Ueh-_noTR-eq"
   },
   "outputs": [],
   "source": [
    "idfModel = idf.fit(featurizedData)\n",
    "rescaled_df = idfModel.transform(featurizedData)"
   ]
  },
  {
   "cell_type": "code",
   "execution_count": 226,
   "metadata": {
    "colab": {
     "base_uri": "https://localhost:8080/"
    },
    "id": "qd-WeRb_SuSa",
    "outputId": "91934eb7-b1f5-47a5-b620-6c0db7be2050"
   },
   "outputs": [
    {
     "name": "stdout",
     "output_type": "stream",
     "text": [
      "+-----------+-------------+-----------+----+--------------------+--------------------+--------------------+--------------------+\n",
      "|star_rating|helpful_votes|total_votes|vine|        word_removed|          word_count|         rawFeatures|            word_idf|\n",
      "+-----------+-------------+-----------+----+--------------------+--------------------+--------------------+--------------------+\n",
      "|          3|            1|          1|   N|[bit, messy, orde...|(10376,[0,49,59,6...|(20,[0,4,6,7,9,10...|(20,[0,4,6,7,9,10...|\n",
      "|          5|            0|          0|   N|[great, room, bot...|(10376,[1,4,8,11,...|(20,[0,2,3,5,6,7,...|(20,[0,2,3,5,6,7,...|\n",
      "|          5|            0|          0|   N|[five, stars, cut...|(10376,[2,5,23,23...|(20,[2,9,14],[2.0...|(20,[2,9,14],[0.8...|\n",
      "|          3|            1|          4|   N|[mulberry, color,...|(10376,[12,24,34,...|(20,[1,2,4,5,8,9,...|(20,[1,2,4,5,8,9,...|\n",
      "+-----------+-------------+-----------+----+--------------------+--------------------+--------------------+--------------------+\n",
      "only showing top 4 rows\n",
      "\n"
     ]
    }
   ],
   "source": [
    "\n",
    "rescaled_df.show(4)"
   ]
  },
  {
   "cell_type": "code",
   "execution_count": 227,
   "metadata": {
    "id": "pgRIE7D2S1pF"
   },
   "outputs": [],
   "source": [
    "### \n",
    "\n",
    "clean_df=rescaled_df.drop('word_removed','word_count','rawFeatures')\n",
    "\n"
   ]
  },
  {
   "cell_type": "code",
   "execution_count": 228,
   "metadata": {
    "id": "DICbl0idY0EX"
   },
   "outputs": [],
   "source": [
    "### convert binary category to numeric \n",
    "\n",
    "from pyspark.ml.feature import StringIndexer"
   ]
  },
  {
   "cell_type": "code",
   "execution_count": 229,
   "metadata": {
    "id": "yqKoFMPMZhQy"
   },
   "outputs": [],
   "source": [
    "\n",
    "indexer = StringIndexer(inputCol=\"vine\", outputCol=\"vineIndex\")\n",
    "clean_df = indexer.fit(clean_df).transform(clean_df)\n"
   ]
  },
  {
   "cell_type": "code",
   "execution_count": 230,
   "metadata": {
    "colab": {
     "base_uri": "https://localhost:8080/"
    },
    "id": "jp-yZcbkZ1a4",
    "outputId": "2af6a941-9308-4f6d-83e0-bac4c8bc59cf"
   },
   "outputs": [
    {
     "name": "stdout",
     "output_type": "stream",
     "text": [
      "+-----------+-------------+-----------+----+--------------------+---------+\n",
      "|star_rating|helpful_votes|total_votes|vine|            word_idf|vineIndex|\n",
      "+-----------+-------------+-----------+----+--------------------+---------+\n",
      "|          3|            1|          1|   N|(20,[0,4,6,7,9,10...|      0.0|\n",
      "|          5|            0|          0|   N|(20,[0,2,3,5,6,7,...|      0.0|\n",
      "|          5|            0|          0|   N|(20,[2,9,14],[0.8...|      0.0|\n",
      "+-----------+-------------+-----------+----+--------------------+---------+\n",
      "only showing top 3 rows\n",
      "\n"
     ]
    }
   ],
   "source": [
    "clean_df.show(3)\n",
    "clean_df=clean_df.drop('vine')"
   ]
  },
  {
   "cell_type": "code",
   "execution_count": 231,
   "metadata": {
    "id": "SPQbYnrhZ38E"
   },
   "outputs": [],
   "source": [
    "### create target variable: Good or Bad product \n",
    "from pyspark.ml.feature import IndexToString\n",
    "from pyspark.sql.functions import when\n",
    "\n",
    "\n",
    "\n"
   ]
  },
  {
   "cell_type": "code",
   "execution_count": 232,
   "metadata": {
    "colab": {
     "base_uri": "https://localhost:8080/"
    },
    "id": "4vPtbYHZc88B",
    "outputId": "381ec459-9806-4873-e9bd-bd6bbd06ed4e"
   },
   "outputs": [
    {
     "name": "stdout",
     "output_type": "stream",
     "text": [
      "+-------------+-----------+--------------------+---------+-------+\n",
      "|helpful_votes|total_votes|            word_idf|vineIndex|quality|\n",
      "+-------------+-----------+--------------------+---------+-------+\n",
      "|            1|          1|(20,[0,4,6,7,9,10...|      0.0|      Y|\n",
      "|            0|          0|(20,[0,2,3,5,6,7,...|      0.0|      Y|\n",
      "|            0|          0|(20,[2,9,14],[0.8...|      0.0|      Y|\n",
      "+-------------+-----------+--------------------+---------+-------+\n",
      "only showing top 3 rows\n",
      "\n"
     ]
    }
   ],
   "source": [
    "clean_df=clean_df.withColumn('quality', f.when(clean_df['star_rating']==1,'N').otherwise('Y'))\n",
    "\n",
    "clean_df=clean_df.drop('star_rating')\n",
    "clean_df.show(3)"
   ]
  },
  {
   "cell_type": "code",
   "execution_count": 233,
   "metadata": {
    "id": "tYAsyFGriB39"
   },
   "outputs": [],
   "source": [
    "######\n",
    "\n",
    "from pyspark.sql.types import  DoubleType\n",
    "\n",
    "indices_udf = udf(lambda vector: vector.indices.tolist(), ArrayType(IntegerType()))\n",
    "values_udf = udf(lambda vector: vector.toArray().tolist(), ArrayType(DoubleType()))\n",
    "\n",
    "clean_df=clean_df.withColumn('indices', indices_udf(f.col('word_idf')))\\\n",
    "                 .withColumn('values', values_udf(f.col('word_idf')))\n",
    "                "
   ]
  },
  {
   "cell_type": "code",
   "execution_count": 234,
   "metadata": {
    "colab": {
     "base_uri": "https://localhost:8080/"
    },
    "id": "9pyIYGG-m9Cq",
    "outputId": "84d42258-5389-45c3-bf6a-ea4fa8252e7e"
   },
   "outputs": [
    {
     "name": "stdout",
     "output_type": "stream",
     "text": [
      "+-------------+-----------+--------------------+---------+-------+--------------------+--------------------+\n",
      "|helpful_votes|total_votes|            word_idf|vineIndex|quality|             indices|              values|\n",
      "+-------------+-----------+--------------------+---------+-------+--------------------+--------------------+\n",
      "|            1|          1|(20,[0,4,6,7,9,10...|      0.0|      Y|[0, 4, 6, 7, 9, 1...|[0.60131507511611...|\n",
      "|            0|          0|(20,[0,2,3,5,6,7,...|      0.0|      Y|[0, 2, 3, 5, 6, 7...|[0.60131507511611...|\n",
      "|            0|          0|(20,[2,9,14],[0.8...|      0.0|      Y|          [2, 9, 14]|[0.0, 0.0, 0.8241...|\n",
      "+-------------+-----------+--------------------+---------+-------+--------------------+--------------------+\n",
      "only showing top 3 rows\n",
      "\n"
     ]
    }
   ],
   "source": [
    "clean_df.show(3)"
   ]
  },
  {
   "cell_type": "code",
   "execution_count": 285,
   "metadata": {
    "colab": {
     "base_uri": "https://localhost:8080/"
    },
    "id": "YUpC0sEjmbuS",
    "outputId": "dbe0eee3-196c-4bf8-db94-273d4aa7449b"
   },
   "outputs": [
    {
     "name": "stdout",
     "output_type": "stream",
     "text": [
      "+-------------+-----------+---------+-------+--------------------+\n",
      "|helpful_votes|total_votes|vineIndex|quality|              values|\n",
      "+-------------+-----------+---------+-------+--------------------+\n",
      "|            1|          1|      0.0|      Y|[0.60131507511611...|\n",
      "|            0|          0|      0.0|      Y|[0.60131507511611...|\n",
      "|            0|          0|      0.0|      Y|[0.0, 0.0, 0.8241...|\n",
      "+-------------+-----------+---------+-------+--------------------+\n",
      "only showing top 3 rows\n",
      "\n"
     ]
    }
   ],
   "source": [
    "#### final check point\n",
    "clean_df=clean_df.drop('word_idf','indices')\n"
   ]
  },
  {
   "cell_type": "code",
   "execution_count": 238,
   "metadata": {
    "id": "OVbWztOKoMVC"
   },
   "outputs": [],
   "source": [
    "data_preprocessed=clean_df.toPandas()"
   ]
  },
  {
   "cell_type": "code",
   "execution_count": 239,
   "metadata": {
    "colab": {
     "base_uri": "https://localhost:8080/",
     "height": 143
    },
    "id": "4jEdWSHh3ly2",
    "outputId": "ad01d453-5675-4e14-c169-292d0ae33050"
   },
   "outputs": [
    {
     "data": {
      "text/html": [
       "\n",
       "  <div id=\"df-2aa22e21-8994-4f9c-9cfc-484f2915961b\">\n",
       "    <div class=\"colab-df-container\">\n",
       "      <div>\n",
       "<style scoped>\n",
       "    .dataframe tbody tr th:only-of-type {\n",
       "        vertical-align: middle;\n",
       "    }\n",
       "\n",
       "    .dataframe tbody tr th {\n",
       "        vertical-align: top;\n",
       "    }\n",
       "\n",
       "    .dataframe thead th {\n",
       "        text-align: right;\n",
       "    }\n",
       "</style>\n",
       "<table border=\"1\" class=\"dataframe\">\n",
       "  <thead>\n",
       "    <tr style=\"text-align: right;\">\n",
       "      <th></th>\n",
       "      <th>helpful_votes</th>\n",
       "      <th>total_votes</th>\n",
       "      <th>vineIndex</th>\n",
       "      <th>quality</th>\n",
       "      <th>values</th>\n",
       "    </tr>\n",
       "  </thead>\n",
       "  <tbody>\n",
       "    <tr>\n",
       "      <th>0</th>\n",
       "      <td>1</td>\n",
       "      <td>1</td>\n",
       "      <td>0.0</td>\n",
       "      <td>Y</td>\n",
       "      <td>[0.6013150751161178, 0.0, 0.0, 0.0, 0.83767953...</td>\n",
       "    </tr>\n",
       "    <tr>\n",
       "      <th>1</th>\n",
       "      <td>0</td>\n",
       "      <td>0</td>\n",
       "      <td>0.0</td>\n",
       "      <td>Y</td>\n",
       "      <td>[0.6013150751161178, 0.0, 1.2362569677412605, ...</td>\n",
       "    </tr>\n",
       "    <tr>\n",
       "      <th>2</th>\n",
       "      <td>0</td>\n",
       "      <td>0</td>\n",
       "      <td>0.0</td>\n",
       "      <td>Y</td>\n",
       "      <td>[0.0, 0.0, 0.8241713118275069, 0.0, 0.0, 0.0, ...</td>\n",
       "    </tr>\n",
       "  </tbody>\n",
       "</table>\n",
       "</div>\n",
       "      <button class=\"colab-df-convert\" onclick=\"convertToInteractive('df-2aa22e21-8994-4f9c-9cfc-484f2915961b')\"\n",
       "              title=\"Convert this dataframe to an interactive table.\"\n",
       "              style=\"display:none;\">\n",
       "        \n",
       "  <svg xmlns=\"http://www.w3.org/2000/svg\" height=\"24px\"viewBox=\"0 0 24 24\"\n",
       "       width=\"24px\">\n",
       "    <path d=\"M0 0h24v24H0V0z\" fill=\"none\"/>\n",
       "    <path d=\"M18.56 5.44l.94 2.06.94-2.06 2.06-.94-2.06-.94-.94-2.06-.94 2.06-2.06.94zm-11 1L8.5 8.5l.94-2.06 2.06-.94-2.06-.94L8.5 2.5l-.94 2.06-2.06.94zm10 10l.94 2.06.94-2.06 2.06-.94-2.06-.94-.94-2.06-.94 2.06-2.06.94z\"/><path d=\"M17.41 7.96l-1.37-1.37c-.4-.4-.92-.59-1.43-.59-.52 0-1.04.2-1.43.59L10.3 9.45l-7.72 7.72c-.78.78-.78 2.05 0 2.83L4 21.41c.39.39.9.59 1.41.59.51 0 1.02-.2 1.41-.59l7.78-7.78 2.81-2.81c.8-.78.8-2.07 0-2.86zM5.41 20L4 18.59l7.72-7.72 1.47 1.35L5.41 20z\"/>\n",
       "  </svg>\n",
       "      </button>\n",
       "      \n",
       "  <style>\n",
       "    .colab-df-container {\n",
       "      display:flex;\n",
       "      flex-wrap:wrap;\n",
       "      gap: 12px;\n",
       "    }\n",
       "\n",
       "    .colab-df-convert {\n",
       "      background-color: #E8F0FE;\n",
       "      border: none;\n",
       "      border-radius: 50%;\n",
       "      cursor: pointer;\n",
       "      display: none;\n",
       "      fill: #1967D2;\n",
       "      height: 32px;\n",
       "      padding: 0 0 0 0;\n",
       "      width: 32px;\n",
       "    }\n",
       "\n",
       "    .colab-df-convert:hover {\n",
       "      background-color: #E2EBFA;\n",
       "      box-shadow: 0px 1px 2px rgba(60, 64, 67, 0.3), 0px 1px 3px 1px rgba(60, 64, 67, 0.15);\n",
       "      fill: #174EA6;\n",
       "    }\n",
       "\n",
       "    [theme=dark] .colab-df-convert {\n",
       "      background-color: #3B4455;\n",
       "      fill: #D2E3FC;\n",
       "    }\n",
       "\n",
       "    [theme=dark] .colab-df-convert:hover {\n",
       "      background-color: #434B5C;\n",
       "      box-shadow: 0px 1px 3px 1px rgba(0, 0, 0, 0.15);\n",
       "      filter: drop-shadow(0px 1px 2px rgba(0, 0, 0, 0.3));\n",
       "      fill: #FFFFFF;\n",
       "    }\n",
       "  </style>\n",
       "\n",
       "      <script>\n",
       "        const buttonEl =\n",
       "          document.querySelector('#df-2aa22e21-8994-4f9c-9cfc-484f2915961b button.colab-df-convert');\n",
       "        buttonEl.style.display =\n",
       "          google.colab.kernel.accessAllowed ? 'block' : 'none';\n",
       "\n",
       "        async function convertToInteractive(key) {\n",
       "          const element = document.querySelector('#df-2aa22e21-8994-4f9c-9cfc-484f2915961b');\n",
       "          const dataTable =\n",
       "            await google.colab.kernel.invokeFunction('convertToInteractive',\n",
       "                                                     [key], {});\n",
       "          if (!dataTable) return;\n",
       "\n",
       "          const docLinkHtml = 'Like what you see? Visit the ' +\n",
       "            '<a target=\"_blank\" href=https://colab.research.google.com/notebooks/data_table.ipynb>data table notebook</a>'\n",
       "            + ' to learn more about interactive tables.';\n",
       "          element.innerHTML = '';\n",
       "          dataTable['output_type'] = 'display_data';\n",
       "          await google.colab.output.renderOutput(dataTable, element);\n",
       "          const docLink = document.createElement('div');\n",
       "          docLink.innerHTML = docLinkHtml;\n",
       "          element.appendChild(docLink);\n",
       "        }\n",
       "      </script>\n",
       "    </div>\n",
       "  </div>\n",
       "  "
      ],
      "text/plain": [
       "   helpful_votes  total_votes  vineIndex quality  \\\n",
       "0              1            1        0.0       Y   \n",
       "1              0            0        0.0       Y   \n",
       "2              0            0        0.0       Y   \n",
       "\n",
       "                                              values  \n",
       "0  [0.6013150751161178, 0.0, 0.0, 0.0, 0.83767953...  \n",
       "1  [0.6013150751161178, 0.0, 1.2362569677412605, ...  \n",
       "2  [0.0, 0.0, 0.8241713118275069, 0.0, 0.0, 0.0, ...  "
      ]
     },
     "execution_count": 239,
     "metadata": {},
     "output_type": "execute_result"
    }
   ],
   "source": [
    "data_preprocessed.head(3)"
   ]
  },
  {
   "cell_type": "code",
   "execution_count": 316,
   "metadata": {
    "id": "myEE0OEroOS2"
   },
   "outputs": [],
   "source": [
    "\n",
    "##### deep neural networks, NB, SVM \n",
    "\n",
    "data_preprocessed['most_frequency']=np.nan\n",
    "\n",
    "for i in range(len(data_preprocessed)):\n",
    "    h= max(data_preprocessed['values'][i])\n",
    "    data_preprocessed.at[i,'most_frequency']=h"
   ]
  },
  {
   "cell_type": "code",
   "execution_count": 318,
   "metadata": {
    "id": "MSR0M-khM-Vn"
   },
   "outputs": [],
   "source": [
    "data_preprocessed=data_preprocessed.drop('values',axis=1)"
   ]
  },
  {
   "cell_type": "code",
   "execution_count": 319,
   "metadata": {
    "id": "O40_UeJotWkO"
   },
   "outputs": [],
   "source": [
    "#### random split data \n",
    "\n",
    "from sklearn.model_selection import train_test_split\n",
    "\n",
    "target=data_preprocessed['quality'].astype('category').cat.codes\n",
    "\n",
    "inputs=data_preprocessed[['helpful_votes','total_votes','vineIndex','most_frequency']]\n",
    "\n",
    "x_train,x_test,y_train,y_test=train_test_split(inputs,target,test_size=0.2,random_state=20)\n"
   ]
  },
  {
   "cell_type": "code",
   "execution_count": 320,
   "metadata": {
    "id": "1Nb5HS2NrG9I"
   },
   "outputs": [],
   "source": [
    "#### Deep Neural network \n",
    "\n",
    "# specify layers for the neural network:\n",
    "# input layer of size 4 (features), two intermediate of size 5 and 4\n",
    "# and output of size 2 (classes)\n",
    "layers = 50\n",
    "input_size=2\n",
    "output_size=2"
   ]
  },
  {
   "cell_type": "code",
   "execution_count": 321,
   "metadata": {
    "id": "LBCEzBGwsw_c"
   },
   "outputs": [],
   "source": [
    "from tensorflow import keras\n",
    "\n",
    "cnn_model=keras.Sequential([\n",
    "                            keras.layers.Dense(layers, activation='relu'),\n",
    "                            keras.layers.Dense(layers, activation='relu'),\n",
    "                            keras.layers.Dense(output_size, activation='softmax')\n",
    "])\n"
   ]
  },
  {
   "cell_type": "code",
   "execution_count": 322,
   "metadata": {
    "id": "1wI1hfLBtty-"
   },
   "outputs": [],
   "source": [
    "cnn_model.compile(optimizer='adam',loss='sparse_categorical_crossentropy',metrics=['accuracy'])"
   ]
  },
  {
   "cell_type": "code",
   "execution_count": 323,
   "metadata": {
    "colab": {
     "base_uri": "https://localhost:8080/"
    },
    "id": "LK3rF7QGt181",
    "outputId": "d944a43a-c5c0-4da5-ccca-aeeb77c2870f"
   },
   "outputs": [
    {
     "name": "stdout",
     "output_type": "stream",
     "text": [
      "Epoch 1/100\n",
      "40/40 [==============================] - 1s 8ms/step - loss: 0.4451 - accuracy: 0.9122 - val_loss: 0.3701 - val_accuracy: 0.9330\n",
      "Epoch 2/100\n",
      "40/40 [==============================] - 0s 3ms/step - loss: 0.3683 - accuracy: 0.9110 - val_loss: 0.3413 - val_accuracy: 0.9330\n",
      "Epoch 3/100\n",
      "40/40 [==============================] - 0s 3ms/step - loss: 0.3362 - accuracy: 0.9120 - val_loss: 0.3158 - val_accuracy: 0.9320\n",
      "Epoch 4/100\n",
      "40/40 [==============================] - 0s 3ms/step - loss: 0.3160 - accuracy: 0.9118 - val_loss: 0.2956 - val_accuracy: 0.9320\n",
      "Epoch 5/100\n",
      "40/40 [==============================] - 0s 3ms/step - loss: 0.3054 - accuracy: 0.9110 - val_loss: 0.2763 - val_accuracy: 0.9310\n",
      "Epoch 6/100\n",
      "40/40 [==============================] - 0s 3ms/step - loss: 0.3052 - accuracy: 0.9120 - val_loss: 0.2663 - val_accuracy: 0.9310\n",
      "Epoch 7/100\n",
      "40/40 [==============================] - 0s 3ms/step - loss: 0.2917 - accuracy: 0.9125 - val_loss: 0.2599 - val_accuracy: 0.9310\n",
      "Epoch 8/100\n",
      "40/40 [==============================] - 0s 3ms/step - loss: 0.2874 - accuracy: 0.9112 - val_loss: 0.2555 - val_accuracy: 0.9320\n",
      "Epoch 9/100\n",
      "40/40 [==============================] - 0s 3ms/step - loss: 0.2846 - accuracy: 0.9110 - val_loss: 0.2481 - val_accuracy: 0.9310\n",
      "Epoch 10/100\n",
      "40/40 [==============================] - 0s 3ms/step - loss: 0.2832 - accuracy: 0.9115 - val_loss: 0.2429 - val_accuracy: 0.9310\n",
      "Epoch 11/100\n",
      "40/40 [==============================] - 0s 3ms/step - loss: 0.2827 - accuracy: 0.9112 - val_loss: 0.2461 - val_accuracy: 0.9310\n",
      "Epoch 12/100\n",
      "40/40 [==============================] - 0s 3ms/step - loss: 0.2828 - accuracy: 0.9115 - val_loss: 0.2468 - val_accuracy: 0.9300\n",
      "Epoch 13/100\n",
      "40/40 [==============================] - 0s 3ms/step - loss: 0.2826 - accuracy: 0.9125 - val_loss: 0.2440 - val_accuracy: 0.9320\n",
      "Epoch 14/100\n",
      "40/40 [==============================] - 0s 3ms/step - loss: 0.2820 - accuracy: 0.9115 - val_loss: 0.2426 - val_accuracy: 0.9320\n",
      "Epoch 15/100\n",
      "40/40 [==============================] - 0s 3ms/step - loss: 0.2807 - accuracy: 0.9122 - val_loss: 0.2422 - val_accuracy: 0.9310\n",
      "Epoch 16/100\n",
      "40/40 [==============================] - 0s 3ms/step - loss: 0.2824 - accuracy: 0.9120 - val_loss: 0.2409 - val_accuracy: 0.9330\n",
      "Epoch 17/100\n",
      "40/40 [==============================] - 0s 3ms/step - loss: 0.2818 - accuracy: 0.9120 - val_loss: 0.2396 - val_accuracy: 0.9320\n",
      "Epoch 18/100\n",
      "40/40 [==============================] - 0s 3ms/step - loss: 0.2807 - accuracy: 0.9120 - val_loss: 0.2403 - val_accuracy: 0.9330\n",
      "Epoch 19/100\n",
      "40/40 [==============================] - 0s 3ms/step - loss: 0.2806 - accuracy: 0.9122 - val_loss: 0.2404 - val_accuracy: 0.9320\n",
      "Epoch 20/100\n",
      "40/40 [==============================] - 0s 3ms/step - loss: 0.2806 - accuracy: 0.9120 - val_loss: 0.2424 - val_accuracy: 0.9320\n",
      "Epoch 21/100\n",
      "40/40 [==============================] - 0s 3ms/step - loss: 0.2798 - accuracy: 0.9125 - val_loss: 0.2399 - val_accuracy: 0.9330\n",
      "Epoch 22/100\n",
      "40/40 [==============================] - 0s 3ms/step - loss: 0.2792 - accuracy: 0.9125 - val_loss: 0.2405 - val_accuracy: 0.9320\n",
      "Epoch 23/100\n",
      "40/40 [==============================] - 0s 3ms/step - loss: 0.2805 - accuracy: 0.9122 - val_loss: 0.2415 - val_accuracy: 0.9310\n",
      "Epoch 24/100\n",
      "40/40 [==============================] - 0s 3ms/step - loss: 0.2798 - accuracy: 0.9120 - val_loss: 0.2419 - val_accuracy: 0.9330\n",
      "Epoch 25/100\n",
      "40/40 [==============================] - 0s 4ms/step - loss: 0.2800 - accuracy: 0.9118 - val_loss: 0.2425 - val_accuracy: 0.9310\n",
      "Epoch 26/100\n",
      "40/40 [==============================] - 0s 3ms/step - loss: 0.2814 - accuracy: 0.9118 - val_loss: 0.2409 - val_accuracy: 0.9330\n",
      "Epoch 27/100\n",
      "40/40 [==============================] - 0s 3ms/step - loss: 0.2805 - accuracy: 0.9125 - val_loss: 0.2415 - val_accuracy: 0.9320\n",
      "Epoch 28/100\n",
      "40/40 [==============================] - 0s 3ms/step - loss: 0.2808 - accuracy: 0.9118 - val_loss: 0.2535 - val_accuracy: 0.9310\n",
      "Epoch 29/100\n",
      "40/40 [==============================] - 0s 3ms/step - loss: 0.2806 - accuracy: 0.9140 - val_loss: 0.2406 - val_accuracy: 0.9330\n",
      "Epoch 30/100\n",
      "40/40 [==============================] - 0s 3ms/step - loss: 0.2807 - accuracy: 0.9122 - val_loss: 0.2413 - val_accuracy: 0.9330\n",
      "Epoch 31/100\n",
      "40/40 [==============================] - 0s 3ms/step - loss: 0.2790 - accuracy: 0.9130 - val_loss: 0.2429 - val_accuracy: 0.9310\n",
      "Epoch 32/100\n",
      "40/40 [==============================] - 0s 3ms/step - loss: 0.2788 - accuracy: 0.9133 - val_loss: 0.2425 - val_accuracy: 0.9330\n",
      "Epoch 33/100\n",
      "40/40 [==============================] - 0s 3ms/step - loss: 0.2792 - accuracy: 0.9120 - val_loss: 0.2411 - val_accuracy: 0.9330\n",
      "Epoch 34/100\n",
      "40/40 [==============================] - 0s 3ms/step - loss: 0.2789 - accuracy: 0.9128 - val_loss: 0.2441 - val_accuracy: 0.9330\n",
      "Epoch 35/100\n",
      "40/40 [==============================] - 0s 3ms/step - loss: 0.2787 - accuracy: 0.9125 - val_loss: 0.2431 - val_accuracy: 0.9320\n",
      "Epoch 36/100\n",
      "40/40 [==============================] - 0s 3ms/step - loss: 0.2787 - accuracy: 0.9128 - val_loss: 0.2440 - val_accuracy: 0.9330\n",
      "Epoch 37/100\n",
      "40/40 [==============================] - 0s 3ms/step - loss: 0.2837 - accuracy: 0.9122 - val_loss: 0.2490 - val_accuracy: 0.9310\n",
      "Epoch 38/100\n",
      "40/40 [==============================] - 0s 3ms/step - loss: 0.2837 - accuracy: 0.9137 - val_loss: 0.2470 - val_accuracy: 0.9330\n",
      "Epoch 39/100\n",
      "40/40 [==============================] - 0s 3ms/step - loss: 0.2803 - accuracy: 0.9120 - val_loss: 0.2434 - val_accuracy: 0.9320\n",
      "Epoch 40/100\n",
      "40/40 [==============================] - 0s 3ms/step - loss: 0.2790 - accuracy: 0.9120 - val_loss: 0.2476 - val_accuracy: 0.9320\n",
      "Epoch 41/100\n",
      "40/40 [==============================] - 0s 3ms/step - loss: 0.2789 - accuracy: 0.9118 - val_loss: 0.2422 - val_accuracy: 0.9340\n",
      "Epoch 42/100\n",
      "40/40 [==============================] - 0s 3ms/step - loss: 0.2777 - accuracy: 0.9140 - val_loss: 0.2470 - val_accuracy: 0.9300\n",
      "Epoch 43/100\n",
      "40/40 [==============================] - 0s 3ms/step - loss: 0.2791 - accuracy: 0.9125 - val_loss: 0.2424 - val_accuracy: 0.9320\n",
      "Epoch 44/100\n",
      "40/40 [==============================] - 0s 3ms/step - loss: 0.2773 - accuracy: 0.9125 - val_loss: 0.2415 - val_accuracy: 0.9320\n",
      "Epoch 45/100\n",
      "40/40 [==============================] - 0s 3ms/step - loss: 0.2778 - accuracy: 0.9130 - val_loss: 0.2455 - val_accuracy: 0.9310\n",
      "Epoch 46/100\n",
      "40/40 [==============================] - 0s 3ms/step - loss: 0.2781 - accuracy: 0.9128 - val_loss: 0.2423 - val_accuracy: 0.9330\n",
      "Epoch 47/100\n",
      "40/40 [==============================] - 0s 3ms/step - loss: 0.2787 - accuracy: 0.9130 - val_loss: 0.2439 - val_accuracy: 0.9330\n",
      "Epoch 48/100\n",
      "40/40 [==============================] - 0s 3ms/step - loss: 0.2789 - accuracy: 0.9133 - val_loss: 0.2427 - val_accuracy: 0.9330\n",
      "Epoch 49/100\n",
      "40/40 [==============================] - 0s 3ms/step - loss: 0.2775 - accuracy: 0.9125 - val_loss: 0.2443 - val_accuracy: 0.9330\n",
      "Epoch 50/100\n",
      "40/40 [==============================] - 0s 3ms/step - loss: 0.2793 - accuracy: 0.9128 - val_loss: 0.2453 - val_accuracy: 0.9330\n",
      "Epoch 51/100\n",
      "40/40 [==============================] - 0s 3ms/step - loss: 0.2785 - accuracy: 0.9135 - val_loss: 0.2423 - val_accuracy: 0.9340\n",
      "Epoch 52/100\n",
      "40/40 [==============================] - 0s 3ms/step - loss: 0.2773 - accuracy: 0.9125 - val_loss: 0.2416 - val_accuracy: 0.9330\n",
      "Epoch 53/100\n",
      "40/40 [==============================] - 0s 3ms/step - loss: 0.2782 - accuracy: 0.9143 - val_loss: 0.2419 - val_accuracy: 0.9340\n",
      "Epoch 54/100\n",
      "40/40 [==============================] - 0s 3ms/step - loss: 0.2776 - accuracy: 0.9128 - val_loss: 0.2411 - val_accuracy: 0.9330\n",
      "Epoch 55/100\n",
      "40/40 [==============================] - 0s 3ms/step - loss: 0.2778 - accuracy: 0.9133 - val_loss: 0.2446 - val_accuracy: 0.9320\n",
      "Epoch 56/100\n",
      "40/40 [==============================] - 0s 3ms/step - loss: 0.2817 - accuracy: 0.9133 - val_loss: 0.2443 - val_accuracy: 0.9330\n",
      "Epoch 57/100\n",
      "40/40 [==============================] - 0s 3ms/step - loss: 0.2794 - accuracy: 0.9135 - val_loss: 0.2437 - val_accuracy: 0.9330\n",
      "Epoch 58/100\n",
      "40/40 [==============================] - 0s 3ms/step - loss: 0.2798 - accuracy: 0.9125 - val_loss: 0.2463 - val_accuracy: 0.9340\n",
      "Epoch 59/100\n",
      "40/40 [==============================] - 0s 3ms/step - loss: 0.2784 - accuracy: 0.9130 - val_loss: 0.2424 - val_accuracy: 0.9340\n",
      "Epoch 60/100\n",
      "40/40 [==============================] - 0s 3ms/step - loss: 0.2776 - accuracy: 0.9122 - val_loss: 0.2446 - val_accuracy: 0.9330\n",
      "Epoch 61/100\n",
      "40/40 [==============================] - 0s 3ms/step - loss: 0.2774 - accuracy: 0.9135 - val_loss: 0.2489 - val_accuracy: 0.9330\n",
      "Epoch 62/100\n",
      "40/40 [==============================] - 0s 3ms/step - loss: 0.2779 - accuracy: 0.9140 - val_loss: 0.2416 - val_accuracy: 0.9330\n",
      "Epoch 63/100\n",
      "40/40 [==============================] - 0s 3ms/step - loss: 0.2769 - accuracy: 0.9137 - val_loss: 0.2453 - val_accuracy: 0.9340\n",
      "Epoch 64/100\n",
      "40/40 [==============================] - 0s 3ms/step - loss: 0.2767 - accuracy: 0.9137 - val_loss: 0.2419 - val_accuracy: 0.9340\n",
      "Epoch 65/100\n",
      "40/40 [==============================] - 0s 3ms/step - loss: 0.2777 - accuracy: 0.9128 - val_loss: 0.2486 - val_accuracy: 0.9350\n",
      "Epoch 66/100\n",
      "40/40 [==============================] - 0s 3ms/step - loss: 0.2771 - accuracy: 0.9137 - val_loss: 0.2450 - val_accuracy: 0.9340\n",
      "Epoch 67/100\n",
      "40/40 [==============================] - 0s 3ms/step - loss: 0.2781 - accuracy: 0.9143 - val_loss: 0.2449 - val_accuracy: 0.9330\n",
      "Epoch 68/100\n",
      "40/40 [==============================] - 0s 3ms/step - loss: 0.2768 - accuracy: 0.9133 - val_loss: 0.2428 - val_accuracy: 0.9340\n",
      "Epoch 69/100\n",
      "40/40 [==============================] - 0s 3ms/step - loss: 0.2758 - accuracy: 0.9140 - val_loss: 0.2463 - val_accuracy: 0.9330\n",
      "Epoch 70/100\n",
      "40/40 [==============================] - 0s 4ms/step - loss: 0.2775 - accuracy: 0.9128 - val_loss: 0.2432 - val_accuracy: 0.9340\n",
      "Epoch 71/100\n",
      "40/40 [==============================] - 0s 3ms/step - loss: 0.2770 - accuracy: 0.9133 - val_loss: 0.2458 - val_accuracy: 0.9340\n",
      "Epoch 72/100\n",
      "40/40 [==============================] - 0s 3ms/step - loss: 0.2786 - accuracy: 0.9145 - val_loss: 0.2478 - val_accuracy: 0.9330\n",
      "Epoch 73/100\n",
      "40/40 [==============================] - 0s 3ms/step - loss: 0.2876 - accuracy: 0.9135 - val_loss: 0.2444 - val_accuracy: 0.9330\n",
      "Epoch 74/100\n",
      "40/40 [==============================] - 0s 3ms/step - loss: 0.2777 - accuracy: 0.9135 - val_loss: 0.2461 - val_accuracy: 0.9350\n",
      "Epoch 75/100\n",
      "40/40 [==============================] - 0s 3ms/step - loss: 0.2766 - accuracy: 0.9140 - val_loss: 0.2490 - val_accuracy: 0.9330\n",
      "Epoch 76/100\n",
      "40/40 [==============================] - 0s 3ms/step - loss: 0.2795 - accuracy: 0.9128 - val_loss: 0.2478 - val_accuracy: 0.9330\n",
      "Epoch 77/100\n",
      "40/40 [==============================] - 0s 3ms/step - loss: 0.2776 - accuracy: 0.9140 - val_loss: 0.2437 - val_accuracy: 0.9330\n",
      "Epoch 78/100\n",
      "40/40 [==============================] - 0s 2ms/step - loss: 0.2768 - accuracy: 0.9143 - val_loss: 0.2425 - val_accuracy: 0.9330\n",
      "Epoch 79/100\n",
      "40/40 [==============================] - 0s 3ms/step - loss: 0.2764 - accuracy: 0.9137 - val_loss: 0.2450 - val_accuracy: 0.9360\n",
      "Epoch 80/100\n",
      "40/40 [==============================] - 0s 3ms/step - loss: 0.2758 - accuracy: 0.9145 - val_loss: 0.2451 - val_accuracy: 0.9360\n",
      "Epoch 81/100\n",
      "40/40 [==============================] - 0s 3ms/step - loss: 0.2769 - accuracy: 0.9135 - val_loss: 0.2460 - val_accuracy: 0.9340\n",
      "Epoch 82/100\n",
      "40/40 [==============================] - 0s 3ms/step - loss: 0.2766 - accuracy: 0.9140 - val_loss: 0.2432 - val_accuracy: 0.9340\n",
      "Epoch 83/100\n",
      "40/40 [==============================] - 0s 3ms/step - loss: 0.2781 - accuracy: 0.9143 - val_loss: 0.2485 - val_accuracy: 0.9330\n",
      "Epoch 84/100\n",
      "40/40 [==============================] - 0s 3ms/step - loss: 0.2771 - accuracy: 0.9137 - val_loss: 0.2465 - val_accuracy: 0.9340\n",
      "Epoch 85/100\n",
      "40/40 [==============================] - 0s 3ms/step - loss: 0.2768 - accuracy: 0.9135 - val_loss: 0.2459 - val_accuracy: 0.9320\n",
      "Epoch 86/100\n",
      "40/40 [==============================] - 0s 3ms/step - loss: 0.2756 - accuracy: 0.9143 - val_loss: 0.2452 - val_accuracy: 0.9340\n",
      "Epoch 87/100\n",
      "40/40 [==============================] - 0s 3ms/step - loss: 0.2757 - accuracy: 0.9140 - val_loss: 0.2452 - val_accuracy: 0.9340\n",
      "Epoch 88/100\n",
      "40/40 [==============================] - 0s 3ms/step - loss: 0.2770 - accuracy: 0.9143 - val_loss: 0.2436 - val_accuracy: 0.9360\n",
      "Epoch 89/100\n",
      "40/40 [==============================] - 0s 3ms/step - loss: 0.2765 - accuracy: 0.9153 - val_loss: 0.2440 - val_accuracy: 0.9350\n",
      "Epoch 90/100\n",
      "40/40 [==============================] - 0s 3ms/step - loss: 0.2759 - accuracy: 0.9147 - val_loss: 0.2435 - val_accuracy: 0.9360\n",
      "Epoch 91/100\n",
      "40/40 [==============================] - 0s 3ms/step - loss: 0.2761 - accuracy: 0.9145 - val_loss: 0.2442 - val_accuracy: 0.9340\n",
      "Epoch 92/100\n",
      "40/40 [==============================] - 0s 3ms/step - loss: 0.2766 - accuracy: 0.9135 - val_loss: 0.2427 - val_accuracy: 0.9340\n",
      "Epoch 93/100\n",
      "40/40 [==============================] - 0s 3ms/step - loss: 0.2756 - accuracy: 0.9143 - val_loss: 0.2432 - val_accuracy: 0.9330\n",
      "Epoch 94/100\n",
      "40/40 [==============================] - 0s 3ms/step - loss: 0.2758 - accuracy: 0.9140 - val_loss: 0.2447 - val_accuracy: 0.9360\n",
      "Epoch 95/100\n",
      "40/40 [==============================] - 0s 3ms/step - loss: 0.2770 - accuracy: 0.9140 - val_loss: 0.2428 - val_accuracy: 0.9330\n",
      "Epoch 96/100\n",
      "40/40 [==============================] - 0s 3ms/step - loss: 0.2762 - accuracy: 0.9140 - val_loss: 0.2443 - val_accuracy: 0.9360\n",
      "Epoch 97/100\n",
      "40/40 [==============================] - 0s 3ms/step - loss: 0.2753 - accuracy: 0.9145 - val_loss: 0.2438 - val_accuracy: 0.9360\n",
      "Epoch 98/100\n",
      "40/40 [==============================] - 0s 3ms/step - loss: 0.2761 - accuracy: 0.9137 - val_loss: 0.2448 - val_accuracy: 0.9360\n",
      "Epoch 99/100\n",
      "40/40 [==============================] - 0s 3ms/step - loss: 0.2770 - accuracy: 0.9143 - val_loss: 0.2447 - val_accuracy: 0.9350\n",
      "Epoch 100/100\n",
      "40/40 [==============================] - 0s 3ms/step - loss: 0.2749 - accuracy: 0.9145 - val_loss: 0.2431 - val_accuracy: 0.9360\n"
     ]
    },
    {
     "data": {
      "text/plain": [
       "<keras.callbacks.History at 0x7f8ee00dd590>"
      ]
     },
     "execution_count": 323,
     "metadata": {},
     "output_type": "execute_result"
    }
   ],
   "source": [
    "cnn_model.fit(x_train,y_train,epochs=100,batch_size=100, validation_data=(x_test,y_test))"
   ]
  },
  {
   "cell_type": "code",
   "execution_count": 324,
   "metadata": {
    "colab": {
     "base_uri": "https://localhost:8080/"
    },
    "id": "dFZkmJwV6a39",
    "outputId": "327473c1-6581-44a6-d0da-004d1ff9ee05"
   },
   "outputs": [
    {
     "name": "stdout",
     "output_type": "stream",
     "text": [
      "32/32 [==============================] - 0s 3ms/step - loss: 0.2431 - accuracy: 0.9360\n"
     ]
    }
   ],
   "source": [
    "\n",
    "## test the model \n",
    "\n",
    "test_accuracy=cnn_model.evaluate(x_test,y_test)"
   ]
  },
  {
   "cell_type": "code",
   "execution_count": 330,
   "metadata": {
    "id": "ZKjFFeB-NxCp"
   },
   "outputs": [],
   "source": [
    "#### Naive Bayes\n",
    "\n",
    "from sklearn.naive_bayes import GaussianNB\n",
    "\n",
    "from sklearn.metrics import accuracy_score"
   ]
  },
  {
   "cell_type": "code",
   "execution_count": 331,
   "metadata": {
    "id": "UM6xoBtfN-Cr"
   },
   "outputs": [],
   "source": [
    "gnb_model=GaussianNB()"
   ]
  },
  {
   "cell_type": "code",
   "execution_count": 335,
   "metadata": {
    "id": "yjJBZOvNOCTH"
   },
   "outputs": [],
   "source": [
    "y_pred=gnb_model.fit(x_train, y_train).predict(x_test)"
   ]
  },
  {
   "cell_type": "code",
   "execution_count": 336,
   "metadata": {
    "colab": {
     "base_uri": "https://localhost:8080/"
    },
    "id": "DABTvilHOm8j",
    "outputId": "d5282eb4-aa88-4314-e6db-0066512a5f33"
   },
   "outputs": [
    {
     "data": {
      "text/plain": [
       "0.082"
      ]
     },
     "execution_count": 336,
     "metadata": {},
     "output_type": "execute_result"
    }
   ],
   "source": [
    "accuracy_score(y_test, y_pred)"
   ]
  },
  {
   "cell_type": "code",
   "execution_count": 338,
   "metadata": {
    "id": "EFncM6ekOwss"
   },
   "outputs": [],
   "source": [
    "### Support Vector Machine \n",
    "\n",
    "from sklearn.svm import SVC"
   ]
  },
  {
   "cell_type": "code",
   "execution_count": 339,
   "metadata": {
    "id": "Tb7F7KnGPNwB"
   },
   "outputs": [],
   "source": [
    "svm=SVC()"
   ]
  },
  {
   "cell_type": "code",
   "execution_count": 340,
   "metadata": {
    "id": "8N8xs-8PPSLG"
   },
   "outputs": [],
   "source": [
    "svm_model=svm.fit(x_train,y_train)"
   ]
  },
  {
   "cell_type": "code",
   "execution_count": 341,
   "metadata": {
    "id": "iRniFGT3PW-7"
   },
   "outputs": [],
   "source": [
    "y_pred=svm_model.predict(x_test)"
   ]
  },
  {
   "cell_type": "code",
   "execution_count": 342,
   "metadata": {
    "colab": {
     "base_uri": "https://localhost:8080/"
    },
    "id": "JfFSVMfbPbHA",
    "outputId": "7cefa261-b2a5-4727-c3ff-26d70a0a6cd8"
   },
   "outputs": [
    {
     "data": {
      "text/plain": [
       "0.933"
      ]
     },
     "execution_count": 342,
     "metadata": {},
     "output_type": "execute_result"
    }
   ],
   "source": [
    "accuracy_score(y_test, y_pred)"
   ]
  },
  {
   "cell_type": "code",
   "execution_count": null,
   "metadata": {
    "id": "0W1VKoOtPclA"
   },
   "outputs": [],
   "source": []
  }
 ],
 "metadata": {
  "colab": {
   "collapsed_sections": [],
   "name": "AmazonProductNLP.ipynb",
   "provenance": []
  },
  "kernelspec": {
   "display_name": "Python 3 (ipykernel)",
   "language": "python",
   "name": "python3"
  },
  "language_info": {
   "codemirror_mode": {
    "name": "ipython",
    "version": 3
   },
   "file_extension": ".py",
   "mimetype": "text/x-python",
   "name": "python",
   "nbconvert_exporter": "python",
   "pygments_lexer": "ipython3",
   "version": "3.9.10"
  }
 },
 "nbformat": 4,
 "nbformat_minor": 1
}
