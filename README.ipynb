{
 "cells": [
  {
   "cell_type": "markdown",
   "id": "4f68fadf",
   "metadata": {},
   "source": [
    "# Amazon Produce Reviews: Build a Predictive Model with a Deep Neural Network"
   ]
  },
  {
   "cell_type": "markdown",
   "id": "4b6de79b",
   "metadata": {},
   "source": [
    "## Introduction"
   ]
  },
  {
   "cell_type": "markdown",
   "id": "1eaa7fa9",
   "metadata": {},
   "source": [
    "The dataset comprises the customer review text as well as the supporting metadata, which is divided into three key components:\n",
    "\n",
    "From 1995 through 2015, a collection of Amazon.com marketplace reviews and associated metadata was compiled. This is meant to promote research on the qualities (and evolution) of customer reviews, which may include how individuals assess and share their experiences with things on a large scale.\n",
    "\n",
    "I chosen one of the datasets that described 15 columns: marketplace, customer_id, review_id, product_id,\n",
    "       product_parent, product_title, product_category, star_rating,\n",
    "       helpful_votes, total_votes, vine, verified_purchase,\n",
    "       review_headline, review_body, review_date. "
   ]
  },
  {
   "cell_type": "markdown",
   "id": "4301965b",
   "metadata": {},
   "source": [
    "## Exploratory Data Analysis"
   ]
  },
  {
   "cell_type": "markdown",
   "id": "6ccec9f1",
   "metadata": {},
   "source": [
    "Exploratory data analysis (EDA) is the process of studying and visualizing data in order to gain a better knowledge of it and gain insight. In this project, we used some tools for EDA including importing data,\n",
    "descriptive statistics, cleaning data, preprocessing data. \n",
    "\n",
    "Next, I implemented the basic descriptive statistics such as min, max, mean, median and statndard deviation for numeric\n",
    "values. In the project, data preprocessing was completed in spark. To predict which key words tend to give bad rating\n",
    "or good rating, the features include star_rating, helpful_votes, total_votes, vine review_headline and review_body. \n",
    "To form a valid corpus reviews, I conmbied the review_headline and review_body to reviews column. \n",
    "Text data preprocessing mainly includes tokenization, lemmatization and stemming steps. First, we made all words to \n",
    "lowercase. Second, we removed all punctuations in the text and tokenized all words for each row. Stop words are the ones\n",
    "who are not necessary in the corpus and we eliminated all stop words. Count Vectorizer aims to help convert a collection of text documents to \n",
    "vectors of token counts. Finally, we computed term frequency-inverse document frequency text and kept the frequency values\n",
    "for text. The clean and numeric preprocessed data was obtained now. \n",
    "\n",
    "The target variable was created by the star_rating. Products with star rating equal to 1 are bad and otherwise they \n",
    "are good. We also applied one-hot encoding for the vine variable. \n",
    "\n"
   ]
  },
  {
   "cell_type": "markdown",
   "id": "df4e7d7f",
   "metadata": {},
   "source": [
    "## Methods Overview"
   ]
  },
  {
   "cell_type": "markdown",
   "id": "8ab17711",
   "metadata": {},
   "source": [
    "Obtaining the dataset for machine learning algorithms, we applied deep neural networks, Naive Bayes and support vector\n",
    "machines for the classification. The accuracy for deep neural networks and support vector machine model is 0.9360 and\n",
    "0.933, respectively. However, Naive Bayes provided the accuracy with 0.082, which is extremely lower than other \n",
    "two proposed methods. "
   ]
  },
  {
   "cell_type": "code",
   "execution_count": null,
   "id": "b721791b",
   "metadata": {},
   "outputs": [],
   "source": []
  }
 ],
 "metadata": {
  "kernelspec": {
   "display_name": "Python 3 (ipykernel)",
   "language": "python",
   "name": "python3"
  },
  "language_info": {
   "codemirror_mode": {
    "name": "ipython",
    "version": 3
   },
   "file_extension": ".py",
   "mimetype": "text/x-python",
   "name": "python",
   "nbconvert_exporter": "python",
   "pygments_lexer": "ipython3",
   "version": "3.9.12"
  }
 },
 "nbformat": 4,
 "nbformat_minor": 5
}
